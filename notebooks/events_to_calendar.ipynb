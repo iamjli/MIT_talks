{
 "cells": [
  {
   "cell_type": "code",
   "execution_count": 1,
   "metadata": {},
   "outputs": [],
   "source": [
    "# systems\n",
    "import os, sys\n",
    "\n",
    "import pandas as pd\n",
    "import numpy as np\n",
    "\n",
    "#\n",
    "sys.path.insert(0, '../src/')\n",
    "from events import Events\n",
    "# from listing import *"
   ]
  },
  {
   "cell_type": "code",
   "execution_count": 2,
   "metadata": {
    "scrolled": true
   },
   "outputs": [
    {
     "name": "stderr",
     "output_type": "stream",
     "text": [
      "05:36:09 - Session: INFO - Event created: https://www.google.com/calendar/event?eid=NDV1N2lkdjc5dWg3M25rODNkb3BpbHY3azQgb3VwMDQzbzVqY2ZuYjd0YWoyYTQzbzcyNDhAZw\n",
      "05:36:09 - Events: INFO - Added to manifest: http://mailman.mit.edu/mailman/private/mitml/2018-August/000479.html\n",
      "05:36:11 - Events: INFO - Added to manifest: http://mailman.mit.edu/mailman/private/mitml/2018-August/000480.html\n"
     ]
    }
   ],
   "source": [
    "e = Events('bestudents', 'mitml')\n",
    "e.update_manifest()"
   ]
  },
  {
   "cell_type": "code",
   "execution_count": 3,
   "metadata": {
    "scrolled": true
   },
   "outputs": [
    {
     "data": {
      "text/html": [
       "<div>\n",
       "<style scoped>\n",
       "    .dataframe tbody tr th:only-of-type {\n",
       "        vertical-align: middle;\n",
       "    }\n",
       "\n",
       "    .dataframe tbody tr th {\n",
       "        vertical-align: top;\n",
       "    }\n",
       "\n",
       "    .dataframe thead th {\n",
       "        text-align: right;\n",
       "    }\n",
       "</style>\n",
       "<table border=\"1\" class=\"dataframe\">\n",
       "  <thead>\n",
       "    <tr style=\"text-align: right;\">\n",
       "      <th></th>\n",
       "      <th>description</th>\n",
       "      <th>message</th>\n",
       "      <th>event_id</th>\n",
       "      <th>is_correction</th>\n",
       "      <th>is_talk</th>\n",
       "      <th>end</th>\n",
       "      <th>index</th>\n",
       "      <th>location</th>\n",
       "      <th>posted_date</th>\n",
       "      <th>pushed_to_cal</th>\n",
       "      <th>start</th>\n",
       "      <th>summary</th>\n",
       "    </tr>\n",
       "  </thead>\n",
       "  <tbody>\n",
       "    <tr>\n",
       "      <th>0</th>\n",
       "      <td>http://mailman.mit.edu/mailman/private/mitml/2...</td>\n",
       "      <td>Just a reminder about this MIT-ML Seminar talk...</td>\n",
       "      <td>0</td>\n",
       "      <td>False</td>\n",
       "      <td>True</td>\n",
       "      <td>{'dateTime': '2015-09-17T15:00:00', 'timeZone'...</td>\n",
       "      <td>000000.html</td>\n",
       "      <td>32-D507</td>\n",
       "      <td>2015-09-16</td>\n",
       "      <td>1.0</td>\n",
       "      <td>{'dateTime': '2015-09-17T14:00:00', 'timeZone'...</td>\n",
       "      <td>TALK: Thursday 09-17-2015 Extreme Classificati...</td>\n",
       "    </tr>\n",
       "    <tr>\n",
       "      <th>1</th>\n",
       "      <td>http://mailman.mit.edu/mailman/private/mitml/2...</td>\n",
       "      <td>Hi everybody,\\n\\nA reminder that we will be ha...</td>\n",
       "      <td>1</td>\n",
       "      <td>False</td>\n",
       "      <td>False</td>\n",
       "      <td>{'dateTime': '2015-09-24T17:30:00', 'timeZone'...</td>\n",
       "      <td>000001.html</td>\n",
       "      <td>NaN</td>\n",
       "      <td>2015-09-23</td>\n",
       "      <td>NaN</td>\n",
       "      <td>{'dateTime': '2015-09-24T16:30:00', 'timeZone'...</td>\n",
       "      <td>Olivier Koch - Machine Learning at Criteo [Thu...</td>\n",
       "    </tr>\n",
       "    <tr>\n",
       "      <th>2</th>\n",
       "      <td>http://mailman.mit.edu/mailman/private/mitml/2...</td>\n",
       "      <td>Hi everybody,\\n\\nA final reminder that we will...</td>\n",
       "      <td>2</td>\n",
       "      <td>False</td>\n",
       "      <td>False</td>\n",
       "      <td>{'dateTime': '2015-09-24T17:30:00', 'timeZone'...</td>\n",
       "      <td>000002.html</td>\n",
       "      <td>NaN</td>\n",
       "      <td>2015-09-24</td>\n",
       "      <td>NaN</td>\n",
       "      <td>{'dateTime': '2015-09-24T16:30:00', 'timeZone'...</td>\n",
       "      <td>Olivier Koch - Machine Learning at Criteo [TOD...</td>\n",
       "    </tr>\n",
       "    <tr>\n",
       "      <th>3</th>\n",
       "      <td>http://mailman.mit.edu/mailman/private/mitml/2...</td>\n",
       "      <td>Hi everybody,\\n\\nML tea will be again on a Thu...</td>\n",
       "      <td>3</td>\n",
       "      <td>False</td>\n",
       "      <td>False</td>\n",
       "      <td>{'dateTime': '2015-10-01T17:30:00', 'timeZone'...</td>\n",
       "      <td>000003.html</td>\n",
       "      <td>NaN</td>\n",
       "      <td>2015-09-25</td>\n",
       "      <td>NaN</td>\n",
       "      <td>{'dateTime': '2015-10-01T16:30:00', 'timeZone'...</td>\n",
       "      <td>Suvrit Sra - Geometric Optimization in Machine...</td>\n",
       "    </tr>\n",
       "    <tr>\n",
       "      <th>4</th>\n",
       "      <td>http://mailman.mit.edu/mailman/private/mitml/2...</td>\n",
       "      <td>Hi everybody,\\n\\nJust a reminder that ML tea w...</td>\n",
       "      <td>4</td>\n",
       "      <td>False</td>\n",
       "      <td>False</td>\n",
       "      <td>{'dateTime': '2015-10-01T17:30:00', 'timeZone'...</td>\n",
       "      <td>000004.html</td>\n",
       "      <td>NaN</td>\n",
       "      <td>2015-09-30</td>\n",
       "      <td>NaN</td>\n",
       "      <td>{'dateTime': '2015-10-01T16:30:00', 'timeZone'...</td>\n",
       "      <td>Suvrit Sra - Geometric Optimization in Machine...</td>\n",
       "    </tr>\n",
       "  </tbody>\n",
       "</table>\n",
       "</div>"
      ],
      "text/plain": [
       "                                         description  \\\n",
       "0  http://mailman.mit.edu/mailman/private/mitml/2...   \n",
       "1  http://mailman.mit.edu/mailman/private/mitml/2...   \n",
       "2  http://mailman.mit.edu/mailman/private/mitml/2...   \n",
       "3  http://mailman.mit.edu/mailman/private/mitml/2...   \n",
       "4  http://mailman.mit.edu/mailman/private/mitml/2...   \n",
       "\n",
       "                                             message  event_id  is_correction  \\\n",
       "0  Just a reminder about this MIT-ML Seminar talk...         0          False   \n",
       "1  Hi everybody,\\n\\nA reminder that we will be ha...         1          False   \n",
       "2  Hi everybody,\\n\\nA final reminder that we will...         2          False   \n",
       "3  Hi everybody,\\n\\nML tea will be again on a Thu...         3          False   \n",
       "4  Hi everybody,\\n\\nJust a reminder that ML tea w...         4          False   \n",
       "\n",
       "   is_talk                                                end        index  \\\n",
       "0     True  {'dateTime': '2015-09-17T15:00:00', 'timeZone'...  000000.html   \n",
       "1    False  {'dateTime': '2015-09-24T17:30:00', 'timeZone'...  000001.html   \n",
       "2    False  {'dateTime': '2015-09-24T17:30:00', 'timeZone'...  000002.html   \n",
       "3    False  {'dateTime': '2015-10-01T17:30:00', 'timeZone'...  000003.html   \n",
       "4    False  {'dateTime': '2015-10-01T17:30:00', 'timeZone'...  000004.html   \n",
       "\n",
       "  location posted_date  pushed_to_cal  \\\n",
       "0  32-D507  2015-09-16            1.0   \n",
       "1      NaN  2015-09-23            NaN   \n",
       "2      NaN  2015-09-24            NaN   \n",
       "3      NaN  2015-09-25            NaN   \n",
       "4      NaN  2015-09-30            NaN   \n",
       "\n",
       "                                               start  \\\n",
       "0  {'dateTime': '2015-09-17T14:00:00', 'timeZone'...   \n",
       "1  {'dateTime': '2015-09-24T16:30:00', 'timeZone'...   \n",
       "2  {'dateTime': '2015-09-24T16:30:00', 'timeZone'...   \n",
       "3  {'dateTime': '2015-10-01T16:30:00', 'timeZone'...   \n",
       "4  {'dateTime': '2015-10-01T16:30:00', 'timeZone'...   \n",
       "\n",
       "                                             summary  \n",
       "0  TALK: Thursday 09-17-2015 Extreme Classificati...  \n",
       "1  Olivier Koch - Machine Learning at Criteo [Thu...  \n",
       "2  Olivier Koch - Machine Learning at Criteo [TOD...  \n",
       "3  Suvrit Sra - Geometric Optimization in Machine...  \n",
       "4  Suvrit Sra - Geometric Optimization in Machine...  "
      ]
     },
     "execution_count": 3,
     "metadata": {},
     "output_type": "execute_result"
    }
   ],
   "source": [
    "e.manifest.head()"
   ]
  },
  {
   "cell_type": "code",
   "execution_count": 4,
   "metadata": {},
   "outputs": [],
   "source": [
    "x = '[BE students] [Careers Office Workshops: 1. Evaluating Job Offers 2. Job Search for Seniors'"
   ]
  },
  {
   "cell_type": "code",
   "execution_count": 7,
   "metadata": {},
   "outputs": [],
   "source": [
    "\n",
    "import re\n",
    "\n",
    "x = re.sub(\"[\\(\\[].*?[\\)\\]]\", \"\", x, count=1).strip()"
   ]
  },
  {
   "cell_type": "code",
   "execution_count": 8,
   "metadata": {},
   "outputs": [
    {
     "data": {
      "text/plain": [
       "'[Careers Office Workshops: 1. Evaluating Job Offers 2. Job Search for Seniors'"
      ]
     },
     "execution_count": 8,
     "metadata": {},
     "output_type": "execute_result"
    }
   ],
   "source": [
    "x"
   ]
  },
  {
   "cell_type": "code",
   "execution_count": 11,
   "metadata": {},
   "outputs": [
    {
     "data": {
      "text/plain": [
       "'[Careers Office Workshops: 1. Evaluating Job Offers 2. Job Search for Seniors'"
      ]
     },
     "execution_count": 11,
     "metadata": {},
     "output_type": "execute_result"
    }
   ],
   "source": [
    "re.sub(\"[\\(\\[].*?[\\)\\]]\", \"\", x, count=1)"
   ]
  },
  {
   "cell_type": "code",
   "execution_count": null,
   "metadata": {},
   "outputs": [],
   "source": []
  }
 ],
 "metadata": {
  "kernelspec": {
   "display_name": "Python 3",
   "language": "python",
   "name": "python3"
  },
  "language_info": {
   "codemirror_mode": {
    "name": "ipython",
    "version": 3
   },
   "file_extension": ".py",
   "mimetype": "text/x-python",
   "name": "python",
   "nbconvert_exporter": "python",
   "pygments_lexer": "ipython3",
   "version": "3.6.5"
  }
 },
 "nbformat": 4,
 "nbformat_minor": 2
}
