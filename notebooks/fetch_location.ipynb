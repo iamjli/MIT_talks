{
 "cells": [
  {
   "cell_type": "code",
   "execution_count": 22,
   "metadata": {},
   "outputs": [],
   "source": [
    "# systems\n",
    "import os, sys\n",
    "\n",
    "from dateutil import parser\n",
    "\n",
    "import pandas as pd\n",
    "\n",
    "# scraping websites\n",
    "import json\n",
    "import requests\n",
    "from bs4 import BeautifulSoup"
   ]
  },
  {
   "cell_type": "markdown",
   "metadata": {},
   "source": [
    "# Import\n",
    "\n",
    "Used [Web Scraper plugin](https://chrome.google.com/webstore/detail/web-scraper/jnhgnonknehpejjnehehllkliplmbmhn/related?hl=en) to download [room directory](https://floorplans.mit.edu/cgi-bin-db-mit/wdbmitscript.asp?Report=ibrl&Item=MIT).\n",
    "\n",
    "Results placed in `../listings/mit_rooms.csv`."
   ]
  },
  {
   "cell_type": "code",
   "execution_count": 25,
   "metadata": {},
   "outputs": [],
   "source": [
    "rooms = []\n",
    "\n",
    "with open('../listings/mit_rooms.csv', 'r') as f: \n",
    "    \n",
    "    for line in f.readlines(): \n",
    "        \n",
    "        l = line.split(' ')[0]\n",
    "        if '-' in l and len(l) < 15: \n",
    "            \n",
    "            rooms.append(l.rstrip())"
   ]
  },
  {
   "cell_type": "code",
   "execution_count": 26,
   "metadata": {},
   "outputs": [
    {
     "data": {
      "text/plain": [
       "['OC32B-103',\n",
       " 'W53G-101',\n",
       " 'NW12-000E2',\n",
       " 'NW12-000SC',\n",
       " 'NW12-000SD',\n",
       " 'NW12-000SE',\n",
       " 'NW12-000Z',\n",
       " 'NW12-001',\n",
       " 'NW12-002',\n",
       " 'NW12-003',\n",
       " 'NW12-004',\n",
       " 'NW12-005',\n",
       " 'NW12-006',\n",
       " 'NW12-007',\n",
       " 'NW12-008',\n",
       " 'NW12-009',\n",
       " 'NW12-010',\n",
       " 'NW12-100',\n",
       " 'NW12-100A',\n",
       " 'NW12-100AM']"
      ]
     },
     "execution_count": 26,
     "metadata": {},
     "output_type": "execute_result"
    }
   ],
   "source": [
    "rooms[:20]"
   ]
  },
  {
   "cell_type": "code",
   "execution_count": 27,
   "metadata": {},
   "outputs": [
    {
     "data": {
      "text/plain": [
       "41454"
      ]
     },
     "execution_count": 27,
     "metadata": {},
     "output_type": "execute_result"
    }
   ],
   "source": [
    "len(rooms)"
   ]
  },
  {
   "cell_type": "code",
   "execution_count": null,
   "metadata": {},
   "outputs": [],
   "source": []
  }
 ],
 "metadata": {
  "kernelspec": {
   "display_name": "Python 3",
   "language": "python",
   "name": "python3"
  },
  "language_info": {
   "codemirror_mode": {
    "name": "ipython",
    "version": 3
   },
   "file_extension": ".py",
   "mimetype": "text/x-python",
   "name": "python",
   "nbconvert_exporter": "python",
   "pygments_lexer": "ipython3",
   "version": "3.6.5"
  }
 },
 "nbformat": 4,
 "nbformat_minor": 2
}
