{
 "cells": [
  {
   "cell_type": "markdown",
   "metadata": {},
   "source": [
    "## Get title"
   ]
  },
  {
   "cell_type": "code",
   "execution_count": 10,
   "metadata": {},
   "outputs": [
    {
     "data": {
      "text/plain": [
       "' [Mitml] (TODAY) Statistics Special Seminar - Prateek Jain (Microsoft Research) - Tuesday, Aug 21st@2:00pm, E18-304\\n   '"
      ]
     },
     "execution_count": 10,
     "metadata": {},
     "output_type": "execute_result"
    }
   ],
   "source": [
    "soup.title.string"
   ]
  },
  {
   "cell_type": "code",
   "execution_count": 15,
   "metadata": {},
   "outputs": [
    {
     "data": {
      "text/plain": [
       "<title> [Mitml] (TODAY) Statistics Special Seminar - Prateek Jain (Microsoft Research) - Tuesday, Aug 21st@2:00pm, E18-304\n",
       "   </title>"
      ]
     },
     "execution_count": 15,
     "metadata": {},
     "output_type": "execute_result"
    }
   ],
   "source": [
    "soup.title"
   ]
  },
  {
   "cell_type": "markdown",
   "metadata": {},
   "source": [
    "## Get time and date"
   ]
  },
  {
   "cell_type": "code",
   "execution_count": 20,
   "metadata": {},
   "outputs": [],
   "source": [
    "jar_files = \"../../packages/python-sutime/jars/\"\n",
    "sutime = SUTime(jars=jar_files, mark_time_ranges=True)"
   ]
  },
  {
   "cell_type": "code",
   "execution_count": 25,
   "metadata": {},
   "outputs": [
    {
     "data": {
      "text/plain": [
       "'<pre>Statistics Special Seminar | Tuesday, August 21 @ 2:00 pm - 3:00 pm in Room E18-304\\n\\nTitle: Resource-efficient ML in 2 KB RAM for the Internet of Things\\n<a href=\"https://stat.mit.edu/calendar/prateek-jain/\">https://stat.mit.edu/calendar/prateek-jain/</a>\\n\\nSpeaker:\\nPrateek Jain (Microsoft Research)\\n<a href=\"https://www.microsoft.com/en-us/research/people/prajain/\">https://www.microsoft.com/en-us/research/people/prajain/</a>\\n\\nAbstract: We propose an alternative paradigm for the Internet of Things (IoT) where machine learning algorithms run locally on severely resource-constrained edge and endpoint devices without necessarily needing cloud connectivity. This enables many scenarios beyond the pale of the traditional paradigm including low-latency brain implants, precision agriculture on disconnected farms, privacy-preserving smart spectacles, etc.\\nTowards this end, we develop novel tree and kNN based algorithm, called Bonsai and ProtoNN, for efficient prediction on IoT devices — such as those based on the Arduino Uno board having an 8 bit ATmega328P microcontroller operating at 16 MHz with no native floating point support, 2 KB RAM and 32 KB read-only flash memory. Experimental results on multiple benchmark datasets demonstrate that Bonsai and ProtoNN can make predictions in milliseconds even on slow microcontrollers, can fit in KB of memory, have lower battery consumption than all other algorithms while achieving prediction accuracies that can be as much as 30% higher than state-of-the-art methods for resource-efficient machine learning.\\nTime permitting, I will also discuss our recent results about deploying RNNs on similar sized tiny devices.\\nJoint work with Manik Varma, Harsha Simhadri, Arun Suggala, Ankit Goyal, Chirag Gupta, Don Dennis, Aditya Kusupati, Shishir Patil, Ashish Kumar.\\n\\nSpeaker bio: Prateek Jain is a member of the Machine Learning and Optimization and the Algorithms and Data Sciences Group at Microsoft Research, Bangalore, India. He is also an adjunct faculty member at the Computer Science department at IIT Kanpur. His research interests are in machine learning, non-convex optimization, high-dimensional statistics, and optimization algorithms in general. He is also interested in applications of machine learning to privacy, computer vision, text mining and natural language processing. He completed his PhD at the University of Texas at Austin under Prof. Inderjit S. Dhillon.\\n\\n\\n\\n\\n-------------- next part --------------\\nAn HTML attachment was scrubbed...\\nURL: <a href=\"http://mailman.mit.edu/mailman/private/mitml/attachments/20180821/87d15342/attachment.html\">http://mailman.mit.edu/mailman/private/mitml/attachments/20180821/87d15342/attachment.html</a>\\n</pre>'"
      ]
     },
     "execution_count": 25,
     "metadata": {},
     "output_type": "execute_result"
    }
   ],
   "source": [
    "str(soup.pre)"
   ]
  },
  {
   "cell_type": "code",
   "execution_count": 26,
   "metadata": {
    "scrolled": true
   },
   "outputs": [
    {
     "name": "stdout",
     "output_type": "stream",
     "text": [
      "[\n",
      "    {\n",
      "        \"end\": 52,\n",
      "        \"start\": 34,\n",
      "        \"text\": \"Tuesday, August 21\",\n",
      "        \"type\": \"DATE\",\n",
      "        \"value\": \"2018-08-21\"\n",
      "    },\n",
      "    {\n",
      "        \"end\": 72,\n",
      "        \"start\": 55,\n",
      "        \"text\": \"2:00 pm - 3:00 pm\",\n",
      "        \"type\": \"DURATION\",\n",
      "        \"value\": {\n",
      "            \"begin\": \"T14:00\",\n",
      "            \"end\": \"T15:00\"\n",
      "        }\n",
      "    },\n",
      "    {\n",
      "        \"end\": 1309,\n",
      "        \"start\": 1297,\n",
      "        \"text\": \"milliseconds\",\n",
      "        \"type\": \"DURATION\",\n",
      "        \"value\": \"PTX.XS\"\n",
      "    }\n",
      "]\n"
     ]
    }
   ],
   "source": [
    "print(json.dumps(sutime.parse(str(soup.pre)), sort_keys=True, indent=4))"
   ]
  },
  {
   "cell_type": "code",
   "execution_count": null,
   "metadata": {},
   "outputs": [],
   "source": []
  }
 ],
 "metadata": {
  "kernelspec": {
   "display_name": "Python 3",
   "language": "python",
   "name": "python3"
  },
  "language_info": {
   "codemirror_mode": {
    "name": "ipython",
    "version": 3
   },
   "file_extension": ".py",
   "mimetype": "text/x-python",
   "name": "python",
   "nbconvert_exporter": "python",
   "pygments_lexer": "ipython3",
   "version": "3.6.5"
  }
 },
 "nbformat": 4,
 "nbformat_minor": 2
}
