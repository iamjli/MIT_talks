{
 "cells": [
  {
   "cell_type": "code",
   "execution_count": 1,
   "metadata": {},
   "outputs": [],
   "source": [
    "# systems\n",
    "import os, sys\n",
    "\n",
    "from dateutil import parser\n",
    "\n",
    "# scraping websites\n",
    "import json\n",
    "import requests\n",
    "from bs4 import BeautifulSoup\n",
    "\n",
    "# language processing\n",
    "from sutime import SUTime\n",
    "\n",
    "#\n",
    "sys.path.insert(0, '../src/')\n",
    "from listing import *"
   ]
  },
  {
   "cell_type": "code",
   "execution_count": 2,
   "metadata": {
    "scrolled": true
   },
   "outputs": [
    {
     "data": {
      "text/plain": [
       "'../listings/bestudents'"
      ]
     },
     "execution_count": 2,
     "metadata": {},
     "output_type": "execute_result"
    }
   ],
   "source": [
    "list_id = \"bestudents\"\n",
    "base_url = \"http://mailman.mit.edu/mailman/private/\"\n",
    "\n",
    "local_dir = '../listings/'\n",
    "local_list_dir = os.path.join(local_dir, list_id)\n",
    "local_list_dir"
   ]
  },
  {
   "cell_type": "code",
   "execution_count": 3,
   "metadata": {},
   "outputs": [],
   "source": [
    "# Import URLs and indices\n",
    "with open(os.path.join(local_list_dir, 'urls.txt'), 'r') as f: \n",
    "    urls = [line.rstrip() for line in f.readlines()]\n",
    "    indices = [os.path.basename(url) for url in urls]"
   ]
  },
  {
   "cell_type": "markdown",
   "metadata": {},
   "source": [
    "# Rooms"
   ]
  },
  {
   "cell_type": "code",
   "execution_count": 4,
   "metadata": {},
   "outputs": [],
   "source": [
    "listing = Listing('bestudents', '004429.html')"
   ]
  },
  {
   "cell_type": "code",
   "execution_count": 5,
   "metadata": {},
   "outputs": [
    {
     "name": "stdout",
     "output_type": "stream",
     "text": [
      "[BE students] \u001b[1;31mFall\u001b[0m IM Sports Signup!\n"
     ]
    }
   ],
   "source": [
    "listing.highlight_text(listing.title)"
   ]
  },
  {
   "cell_type": "markdown",
   "metadata": {},
   "source": [
    "# Time/date"
   ]
  },
  {
   "cell_type": "code",
   "execution_count": 7,
   "metadata": {
    "scrolled": false
   },
   "outputs": [
    {
     "name": "stdout",
     "output_type": "stream",
     "text": [
      "http://mailman.mit.edu/mailman/private/bestudents/2018-August/004430.html\n",
      "{'title': 'Thesis defense announcement for Santiago Correa Echavarria for tomorrow, Tuesday, August 28th, at 10:00am in room 76-156', 'loc': '76-156', 'start': '2018-08-28T10:00:00', 'end': '2018-08-28T11:00:00'}\n",
      "\n",
      "http://mailman.mit.edu/mailman/private/bestudents/2018-August/004424.html\n",
      "{'title': 'Thesis defense announcement for Santiago Correa Echavarria for Tuesday, August 28th, at 10:00am in room 76-156', 'loc': '76-156', 'start': '2018-08-28T10:00:00', 'end': '2018-08-28T11:00:00'}\n",
      "\n",
      "http://mailman.mit.edu/mailman/private/bestudents/2018-August/004423.html\n",
      "{'title': 'Thesis defense announcement for Souparno Ghosh for tomorrow, Weds., August 22nd, at 9:30am in room 56-614', 'loc': '56-614', 'start': '2018-08-22T09:30:00', 'end': '2018-08-22T10:30:00'}\n",
      "\n",
      "http://mailman.mit.edu/mailman/private/bestudents/2018-August/004420.html\n",
      "{'title': 'Thesis defense announcement for Souparno Ghosh for Wednesday, August 22nd, at 9:30am in room 56-614', 'loc': '56-614', 'start': '2018-08-22T09:30:00', 'end': '2018-08-22T10:30:00'}\n",
      "\n",
      "http://mailman.mit.edu/mailman/private/bestudents/2018-August/004412.html\n",
      "{'title': 'EBICS REU Final Research Symposium', 'loc': 'NE47-189', 'start': '2018-08-16T12:30:00', 'end': '2018-08-16T15:30:00'}\n",
      "\n"
     ]
    }
   ],
   "source": [
    "for index in indices[:20]: \n",
    "    \n",
    "    try: \n",
    "        listing = Listing('bestudents', index)\n",
    "        \n",
    "        if listing.is_talk: \n",
    "            print(listing.url)\n",
    "            print(listing.get_parsed_metadata())\n",
    "#             print(listing.url)\n",
    "#             print(listing.title)\n",
    "            \n",
    "# #             result = listing.get_sutime_dataframe(listing.message_mod)\n",
    "#             datetime_df = listing.get_datetime_predictions()\n",
    "#             listing.get_location()\n",
    "    \n",
    "#             print(listing.predict_date)\n",
    "#             print(listing.predict_start, listing.predict_end)\n",
    "#             print(listing.predict_location)\n",
    "            print()\n",
    "        \n",
    "    except AttributeError: \n",
    "        pass"
   ]
  },
  {
   "cell_type": "markdown",
   "metadata": {},
   "source": [
    "# Similarity metrics"
   ]
  },
  {
   "cell_type": "code",
   "execution_count": 8,
   "metadata": {},
   "outputs": [],
   "source": [
    "from difflib import SequenceMatcher\n",
    "from itertools import combinations\n"
   ]
  },
  {
   "cell_type": "code",
   "execution_count": 11,
   "metadata": {},
   "outputs": [],
   "source": [
    "l1 = Listing('bestudents', '004430.html')\n",
    "l2 = Listing('bestudents', '004424.html')"
   ]
  },
  {
   "cell_type": "code",
   "execution_count": 9,
   "metadata": {},
   "outputs": [],
   "source": [
    "recent_listings = []\n",
    "\n",
    "for index in indices[:20]: \n",
    "    try: \n",
    "        listing = Listing('bestudents', index)\n",
    "        if listing.is_talk: \n",
    "            recent_listings.append(listing)\n",
    "    except AttributeError: \n",
    "        pass"
   ]
  },
  {
   "cell_type": "code",
   "execution_count": 10,
   "metadata": {},
   "outputs": [
    {
     "data": {
      "text/plain": [
       "[004430.html, 004424.html, 004423.html, 004420.html, 004412.html]"
      ]
     },
     "execution_count": 10,
     "metadata": {},
     "output_type": "execute_result"
    }
   ],
   "source": [
    "recent_listings"
   ]
  },
  {
   "cell_type": "code",
   "execution_count": 11,
   "metadata": {},
   "outputs": [],
   "source": [
    "def similar(a, b):\n",
    "    return SequenceMatcher(None, a, b).ratio()"
   ]
  },
  {
   "cell_type": "code",
   "execution_count": 12,
   "metadata": {
    "scrolled": false
   },
   "outputs": [
    {
     "name": "stdout",
     "output_type": "stream",
     "text": [
      "http://mailman.mit.edu/mailman/private/bestudents/2018-August/004430.html\n",
      "http://mailman.mit.edu/mailman/private/bestudents/2018-August/004424.html\n",
      "0.9998285028297033\n",
      "http://mailman.mit.edu/mailman/private/bestudents/2018-August/004430.html\n",
      "http://mailman.mit.edu/mailman/private/bestudents/2018-August/004423.html\n",
      "0.09220726234190127\n",
      "http://mailman.mit.edu/mailman/private/bestudents/2018-August/004430.html\n",
      "http://mailman.mit.edu/mailman/private/bestudents/2018-August/004420.html\n",
      "0.09220726234190127\n",
      "http://mailman.mit.edu/mailman/private/bestudents/2018-August/004430.html\n",
      "http://mailman.mit.edu/mailman/private/bestudents/2018-August/004412.html\n",
      "0.008488564017920301\n",
      "http://mailman.mit.edu/mailman/private/bestudents/2018-August/004424.html\n",
      "http://mailman.mit.edu/mailman/private/bestudents/2018-August/004423.html\n",
      "0.09222607631095694\n",
      "http://mailman.mit.edu/mailman/private/bestudents/2018-August/004424.html\n",
      "http://mailman.mit.edu/mailman/private/bestudents/2018-August/004420.html\n",
      "0.09222607631095694\n",
      "http://mailman.mit.edu/mailman/private/bestudents/2018-August/004424.html\n",
      "http://mailman.mit.edu/mailman/private/bestudents/2018-August/004412.html\n",
      "0.008490566037735849\n",
      "http://mailman.mit.edu/mailman/private/bestudents/2018-August/004423.html\n",
      "http://mailman.mit.edu/mailman/private/bestudents/2018-August/004420.html\n",
      "1.0\n",
      "http://mailman.mit.edu/mailman/private/bestudents/2018-August/004423.html\n",
      "http://mailman.mit.edu/mailman/private/bestudents/2018-August/004412.html\n",
      "0.018121413470250678\n",
      "http://mailman.mit.edu/mailman/private/bestudents/2018-August/004420.html\n",
      "http://mailman.mit.edu/mailman/private/bestudents/2018-August/004412.html\n",
      "0.018121413470250678\n"
     ]
    }
   ],
   "source": [
    "for l1, l2 in combinations(recent_listings, 2):  # 2 for pairs, 3 for triplets, etc\n",
    "    print(l1.url)\n",
    "    print(l2.url)\n",
    "    print(similar(l1.message, l2.message))"
   ]
  },
  {
   "cell_type": "code",
   "execution_count": null,
   "metadata": {},
   "outputs": [],
   "source": []
  }
 ],
 "metadata": {
  "kernelspec": {
   "display_name": "Python 3",
   "language": "python",
   "name": "python3"
  },
  "language_info": {
   "codemirror_mode": {
    "name": "ipython",
    "version": 3
   },
   "file_extension": ".py",
   "mimetype": "text/x-python",
   "name": "python",
   "nbconvert_exporter": "python",
   "pygments_lexer": "ipython3",
   "version": "3.6.5"
  }
 },
 "nbformat": 4,
 "nbformat_minor": 2
}
