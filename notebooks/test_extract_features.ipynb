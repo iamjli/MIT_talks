{
 "cells": [
  {
   "cell_type": "code",
   "execution_count": 1,
   "metadata": {},
   "outputs": [],
   "source": [
    "# systems\n",
    "import os, sys\n",
    "\n",
    "from dateutil import parser\n",
    "\n",
    "# scraping websites\n",
    "import json\n",
    "import requests\n",
    "from bs4 import BeautifulSoup\n",
    "\n",
    "# language processing\n",
    "from sutime import SUTime\n",
    "\n",
    "#\n",
    "sys.path.insert(0, '../src/')\n",
    "from parse_listing import *"
   ]
  },
  {
   "cell_type": "code",
   "execution_count": 2,
   "metadata": {
    "scrolled": true
   },
   "outputs": [
    {
     "data": {
      "text/plain": [
       "'../listings/mitml'"
      ]
     },
     "execution_count": 2,
     "metadata": {},
     "output_type": "execute_result"
    }
   ],
   "source": [
    "list_id = \"mitml\"\n",
    "base_url = \"http://mailman.mit.edu/mailman/private/\"\n",
    "\n",
    "local_dir = '../listings/'\n",
    "local_list_dir = os.path.join(local_dir, list_id)\n",
    "local_list_dir"
   ]
  },
  {
   "cell_type": "code",
   "execution_count": 3,
   "metadata": {},
   "outputs": [],
   "source": [
    "# Import URLs and indices\n",
    "with open(os.path.join(local_list_dir, 'urls.txt'), 'r') as f: \n",
    "    urls = [line.rstrip() for line in f.readlines()]\n",
    "    indices = [os.path.basename(url) for url in urls]"
   ]
  },
  {
   "cell_type": "code",
   "execution_count": 4,
   "metadata": {},
   "outputs": [],
   "source": [
    "listing = Listing('mitml', '000357.html')"
   ]
  },
  {
   "cell_type": "code",
   "execution_count": 5,
   "metadata": {},
   "outputs": [],
   "source": [
    "listing.get_datetime_predictions()"
   ]
  },
  {
   "cell_type": "code",
   "execution_count": 6,
   "metadata": {},
   "outputs": [
    {
     "data": {
      "text/plain": [
       "('2017-10-25', '16:00', '17:00')"
      ]
     },
     "execution_count": 6,
     "metadata": {},
     "output_type": "execute_result"
    }
   ],
   "source": [
    "listing.predict_date, listing.predict_start, listing.predict_end"
   ]
  },
  {
   "cell_type": "code",
   "execution_count": 7,
   "metadata": {
    "scrolled": true
   },
   "outputs": [
    {
     "name": "stdout",
     "output_type": "stream",
     "text": [
      "http://mailman.mit.edu/mailman/private/mitml/2018-August/000479.html\n",
      "[Mitml] (TODAY) Statistics Special Seminar - Prateek Jain (Microsoft Research) - Tuesday, Aug 21st@2:00pm, E18-304\n",
      "2018-08-21\n",
      "14:00 15:00\n",
      "\n",
      "http://mailman.mit.edu/mailman/private/mitml/2018-June/000477.html\n",
      "[Mitml] Fwd: TALK: Tuesday 06-05-2018 Noisy Natural Gradient as Variational Inference\n",
      "2018-06-05\n",
      "14:00 15:00\n",
      "\n",
      "http://mailman.mit.edu/mailman/private/mitml/2018-June/000476.html\n",
      "[Mitml] TALK: Tuesday 06-05-2018 Noisy Natural Gradient as Variational Inference\n",
      "2018-06-05\n",
      "14:00 15:00\n",
      "\n",
      "http://mailman.mit.edu/mailman/private/mitml/2018-May/000473.html\n",
      "[Mitml] TALK: Tuesday 06-05-2018 Noisy Natural Gradient as Variational Inference\n",
      "2018-06-05\n",
      "14:00 15:00\n",
      "\n",
      "http://mailman.mit.edu/mailman/private/mitml/2018-May/000469.html\n",
      "[Mitml] TALK: Wednesday 05-09-2018 Reproducibility in Deep Reinforcement Learning and Beyond\n",
      "2018-05-09\n",
      "16:30 17:30\n",
      "\n",
      "http://mailman.mit.edu/mailman/private/mitml/2018-May/000468.html\n",
      "[Mitml] TALK: Monday 05-07-2018 Responsibility Sensitive Safety of Self-Driving Cars\n",
      "2018-05-07\n",
      "15:00 16:00\n",
      "\n",
      "http://mailman.mit.edu/mailman/private/mitml/2018-May/000465.html\n",
      "[Mitml] Joelle Pineau: ML seminar & meetings Wedn May 9 \"Reproducibility in Deep Reinforcement Learning and Beyond\"\n",
      "2018-05-09\n",
      "16:30 17:30\n",
      "\n",
      "http://mailman.mit.edu/mailman/private/mitml/2018-May/000464.html\n",
      "[Mitml] TALK: Wednesday 05-09-2018 Reproducibility in Deep Reinforcement Learning and Beyond\n",
      "2018-05-09\n",
      "16:30 17:30\n",
      "\n",
      "http://mailman.mit.edu/mailman/private/mitml/2018-May/000463.html\n",
      "[Mitml] TALK: Wednesday 05-02-2018 Kernel Methods for Representing Probabilities\n",
      "2018-05-02\n",
      "16:00 17:00\n",
      "\n",
      "http://mailman.mit.edu/mailman/private/mitml/2018-April/000462.html\n",
      "[Mitml] Seminar - Inventing Algorithms via Deep Learning - Wednesday May 2, 2018 3:00PM - RM 26-168 - Pramod Viswanath\n",
      "2018-05-02\n",
      "15:00 16:00\n",
      "\n",
      "http://mailman.mit.edu/mailman/private/mitml/2018-April/000461.html\n",
      "[Mitml] TALK: Monday 05-07-2018 Responsibility Sensitive Safety of Self-Driving Cars\n",
      "2018-05-07\n",
      "15:00 16:00\n",
      "\n"
     ]
    }
   ],
   "source": [
    "for index in indices[:20]: \n",
    "    \n",
    "    try: \n",
    "        listing = Listing('mitml', index)\n",
    "        \n",
    "        if listing.is_talk(): \n",
    "            print(listing.url)\n",
    "            print(listing.title)\n",
    "            \n",
    "#             result = listing.get_sutime_dataframe(listing.message_mod)\n",
    "            datetime_df = listing.get_datetime_predictions()\n",
    "    \n",
    "            print(listing.predict_date)\n",
    "            print(listing.predict_start, listing.predict_end)\n",
    "            print()\n",
    "        \n",
    "    except AttributeError: \n",
    "        pass"
   ]
  },
  {
   "cell_type": "code",
   "execution_count": null,
   "metadata": {},
   "outputs": [],
   "source": []
  }
 ],
 "metadata": {
  "kernelspec": {
   "display_name": "Python 3",
   "language": "python",
   "name": "python3"
  },
  "language_info": {
   "codemirror_mode": {
    "name": "ipython",
    "version": 3
   },
   "file_extension": ".py",
   "mimetype": "text/x-python",
   "name": "python",
   "nbconvert_exporter": "python",
   "pygments_lexer": "ipython3",
   "version": "3.6.5"
  }
 },
 "nbformat": 4,
 "nbformat_minor": 2
}
