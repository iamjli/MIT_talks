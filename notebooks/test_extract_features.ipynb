{
 "cells": [
  {
   "cell_type": "code",
   "execution_count": 1,
   "metadata": {},
   "outputs": [],
   "source": [
    "# systems\n",
    "import os\n",
    "\n",
    "from dateutil import parser\n",
    "\n",
    "# scraping websites\n",
    "import json\n",
    "import requests\n",
    "from bs4 import BeautifulSoup\n",
    "\n",
    "# language processing\n",
    "from sutime import SUTime"
   ]
  },
  {
   "cell_type": "code",
   "execution_count": 2,
   "metadata": {},
   "outputs": [
    {
     "data": {
      "text/plain": [
       "'../listings/mitml'"
      ]
     },
     "execution_count": 2,
     "metadata": {},
     "output_type": "execute_result"
    }
   ],
   "source": [
    "list_id = \"mitml\"\n",
    "base_url = \"http://mailman.mit.edu/mailman/private/\"\n",
    "\n",
    "local_dir = '../listings/'\n",
    "local_list_dir = os.path.join(local_dir, list_id)\n",
    "local_list_dir"
   ]
  },
  {
   "cell_type": "code",
   "execution_count": 3,
   "metadata": {},
   "outputs": [],
   "source": [
    "# Import URLs and indices\n",
    "with open(os.path.join(local_list_dir, 'urls.txt'), 'r') as f: \n",
    "    urls = [line.rstrip() for line in f.readlines()]\n",
    "    indices = [os.path.basename(url) for url in urls]\n",
    "    \n",
    "# Import listing HTMLs\n",
    "listings = {}\n",
    "for url, index in zip(urls, indices): \n",
    "    with open(os.path.join(local_list_dir, index), 'r') as f:\n",
    "        listings[index] = {\n",
    "            \"url\" : url, \n",
    "            \"html\": BeautifulSoup(''.join(f.readlines()), 'html.parser')\n",
    "        }"
   ]
  },
  {
   "cell_type": "code",
   "execution_count": 4,
   "metadata": {},
   "outputs": [],
   "source": [
    "htmls = [dic['html'] for key,dic in listings.items()]"
   ]
  },
  {
   "cell_type": "code",
   "execution_count": 5,
   "metadata": {},
   "outputs": [
    {
     "data": {
      "text/plain": [
       "<!DOCTYPE HTML PUBLIC \"-//W3C//DTD HTML 3.2//EN\">\n",
       "\n",
       "<html>\n",
       "<head>\n",
       "<title> [Mitml] Call for Papers: NIPS 2018 Workshop \"All of Bayesian Nonparametrics (Especially the Useful Bits)\"\n",
       "   </title>\n",
       "<link href=\"index.html\" rel=\"Index\"/>\n",
       "<link href=\"mailto:mitml%40mit.edu?Subject=%5BMitml%5D%20Call%20for%20Papers%3A%20NIPS%202018%20Workshop%20%22All%20of%20Bayesian%0A%20Nonparametrics%20%28Especially%20the%20Useful%20Bits%29%22&amp;In-Reply-To=\" rel=\"made\"/>\n",
       "<meta content=\"index,nofollow\" name=\"robots\"/>\n",
       "<meta content=\"text/html; charset=utf-8\" http-equiv=\"Content-Type\"/>\n",
       "<link href=\"000479.html\" rel=\"Previous\"/>\n",
       "</head>\n",
       "<body bgcolor=\"#ffffff\">\n",
       "<h1>[Mitml] Call for Papers: NIPS 2018 Workshop \"All of Bayesian Nonparametrics (Especially the Useful Bits)\"</h1>\n",
       "<b>Tamara Broderick</b>\n",
       "<a href=\"mailto:mitml%40mit.edu?Subject=%5BMitml%5D%20Call%20for%20Papers%3A%20NIPS%202018%20Workshop%20%22All%20of%20Bayesian%0A%20Nonparametrics%20%28Especially%20the%20Useful%20Bits%29%22&amp;In-Reply-To=\" title='[Mitml] Call for Papers: NIPS 2018 Workshop \"All of Bayesian Nonparametrics (Especially the Useful Bits)\"'>tbroderick at csail.mit.edu\n",
       "       </a><br/>\n",
       "<i>Tue Aug 21 17:36:54 EDT 2018</i>\n",
       "<p><ul>\n",
       "<li>Previous message: <a href=\"000479.html\">[Mitml] (TODAY) Statistics Special Seminar - Prateek Jain (Microsoft Research) - Tuesday, Aug 21st@2:00pm, E18-304\n",
       "</a></li>\n",
       "<li> <b>Messages sorted by:</b>\n",
       "<a href=\"date.html#480\">[ date ]</a>\n",
       "<a href=\"thread.html#480\">[ thread ]</a>\n",
       "<a href=\"subject.html#480\">[ subject ]</a>\n",
       "<a href=\"author.html#480\">[ author ]</a>\n",
       "</li>\n",
       "</ul>\n",
       "<hr/>\n",
       "<!--beginarticle-->\n",
       "<pre>==== CALL FOR PAPERS ====\n",
       "\n",
       "<a href=\"http://mailman.mit.edu/mailman/listinfo/mitml\">BNP at NIPS</a> 2018: “All of Bayesian Nonparametrics (Especially the Useful Bits)”\n",
       "A workshop at the Thirty-Second Annual Conference on Neural\n",
       "Information Processing Systems (NIPS 2018).\n",
       "\n",
       "Date: Friday, December 7, 2018\n",
       "Location: Palais des Congrès de Montréal, Montréal, Quebec, CANADA\n",
       "\n",
       "Website (with latest updates): <a href=\"https://sites.google.com/view/nipsbnp2018\">https://sites.google.com/view/nipsbnp2018</a>\n",
       "\n",
       "Please send questions to: <a href=\"http://mailman.mit.edu/mailman/listinfo/mitml\">nipsbnp2018 at gmail.com</a>\n",
       "\n",
       "IMPORTANT DATES\n",
       "\n",
       "* September 21, 2018: Round 1 Submission Deadline and ISBA@ NIPS\n",
       "Travel Award * Application Deadline\n",
       "* October 1, 2018: Round 1 Notification\n",
       "* October 24, 2018: NIPS Early Registration Deadline\n",
       "* November 1, 2018: Round 2 Submission Deadline\n",
       "* November 13, 2018: Round 2 Notification\n",
       "* November 15, 2018: Travel Award Notification\n",
       "* November 15, 2018: NIPS Refund Deadline\n",
       "* November 20, 2018: Camera-ready submissions due\n",
       "* December 7, 2018: Workshop at NIPS\n",
       "\n",
       "OVERVIEW\n",
       "\n",
       "Bayesian nonparametric (BNP) methods are well suited to the large data\n",
       "sets that arise in a wide variety of applied fields. By making use of\n",
       "infinite-dimensional mathematical structures, BNP methods allow the\n",
       "complexity of a learned model to grow as the size of a data set grows,\n",
       "exhibiting desirable Bayesian regularization properties for small data\n",
       "sets and allowing the practitioner to learn ever more from larger data\n",
       "sets. These properties have resulted in the adoption of BNP methods\n",
       "across a diverse set of application areas. This workshop aims to\n",
       "highlight recent advances in modeling and computation through the lens\n",
       "of applied, domain-driven problems that require the infinite\n",
       "flexibility and interpretability of BNP.\n",
       "\n",
       "We welcome extended abstract submissions from the following\n",
       "(non-exhaustive list) of areas:\n",
       "* New Bayesian nonparametric models, especially applied to\n",
       "domain-specific problems, including, but not limited to biology,\n",
       "neuroscience, healthcare, the humanities, social sciences, economics,\n",
       "and finance, and including new theoretical developments.\n",
       "* Computational inference algorithms applicable to new or existing\n",
       "Bayesian nonparametric models including MCMC, SMC, variational\n",
       "methods, and others.\n",
       "* Applications of Bayesian nonparametric methods to problems in\n",
       "machine learning and statistics, including but not limited to\n",
       "probabilistic numerics, Bayesian optimization, deep learning,\n",
       "reinforcement learning.\n",
       "* Software packages that allow the widespread use of BNP methods,\n",
       "including probabilistic programming languages and implementations of\n",
       "general-purpose inference algorithms.\n",
       "\n",
       "Researchers may contribute to the workshop by submitting a short\n",
       "research paper which follows the submission instructions below. All\n",
       "submissions that are accepted by our peer review process will be\n",
       "invited to present a poster at the workshop. Some submissions will be\n",
       "invited to present a contributed talk. There will be no published\n",
       "proceedings for this workshop (although accepted papers will be posted\n",
       "on the workshop website if authors wish); we hope that authors will\n",
       "find discussion and feedback at the workshop beneficial for developing\n",
       "the research they present, and we encourage authors to submit their\n",
       "resulting work for archival publication in other venues after the\n",
       "workshop.\n",
       "\n",
       "We have several travel awards available for junior researchers (see below).\n",
       "\n",
       "SUBMISSION INSTRUCTIONS\n",
       "\n",
       "Extended abstracts will be submitted in two rounds.\n",
       "\n",
       "* Round 1. The deadline for the first round is September 21, 2018\n",
       "(anywhere on earth) for authors that wish to receive a response by the\n",
       "early registration deadline. Authors that wish to apply for the\n",
       "<a href=\"http://mailman.mit.edu/mailman/listinfo/mitml\">ISBA at NIPS</a> travel award must submit by this deadline.\n",
       "\n",
       "* Round 2. The deadline for the second round is November 2, 2018\n",
       "(anywhere on earth). To be considered for other travel awards\n",
       "(excludes the <a href=\"http://mailman.mit.edu/mailman/listinfo/mitml\">ISBA at NIPS</a> award), submit by this deadline.\n",
       "\n",
       "To submit, authors should upload short papers of up to 4 pages in PDF\n",
       "format using this Easy Chair submission link.\n",
       "\n",
       "== Submission Style and Format Guidelines ==\n",
       "\n",
       "Submissions should be short research papers of 2 - 4 pages in PDF\n",
       "format using the NIPS style (use these LaTeX templates). Author names\n",
       "do not need to be anonymized and references may extend as far as\n",
       "needed beyond the 4 page limit. If authors' research has previously\n",
       "appeared in a journal, workshop, or conference (including the NIPS\n",
       "2018 conference), their workshop submission should meaningfully extend\n",
       "that previous work.\n",
       "\n",
       "The main 4-page paper should include all text and figures, and should\n",
       "adequately describe the work, its contributions, and its limitations.\n",
       "Submissions may include supplementary material as an appendix within\n",
       "the submitted PDF file, but reviewers are not required to read any\n",
       "supplementary material beyond the 4 page limit.\n",
       "\n",
       "== Peer Review and Acceptance Criteria ==\n",
       "\n",
       "All submissions will undergo peer review via the workshop’s program\n",
       "committee. Accepted papers will be chosen based on technical merit and\n",
       "suitability to the workshop's goals. All accepted papers will be\n",
       "included in a poster presentation session on the day of the workshop.\n",
       "Some accepted papers of top quality will be invited to give short\n",
       "contributed talk presentations at the workshop.\n",
       "\n",
       "TRAVEL AWARDS FOR JUNIOR RESEARCHERS\n",
       "\n",
       "Travel awards for students and junior researchers (within 5 years of\n",
       "finishing their PhD) are available for the best contributed\n",
       "submissions. To be considered for a travel award, check “Junior\n",
       "Researcher Travel Awards” box in the EasyChair submission.\n",
       "\n",
       "Authors may also apply for a competitive <a href=\"http://mailman.mit.edu/mailman/listinfo/mitml\">ISBA at NIPS</a> Travel Award, which\n",
       "is a $500 travel award for recipients chosen from all ISBA-endorsed\n",
       "workshops at NIPS. *To apply, authors must submit to Round 1.* The\n",
       "recipients must be ISBA members at the time of receiving the award.\n",
       "\n",
       "There are several travel awards in the form of free workshop\n",
       "registration available for contributed work. Award recipients will be\n",
       "reimbursed by NIPS for their workshop registration.\n",
       "\n",
       "</pre>\n",
       "<!--endarticle-->\n",
       "<hr/>\n",
       "<p><ul>\n",
       "<!--threads-->\n",
       "<li>Previous message: <a href=\"000479.html\">[Mitml] (TODAY) Statistics Special Seminar - Prateek Jain (Microsoft Research) - Tuesday, Aug 21st@2:00pm, E18-304\n",
       "</a></li>\n",
       "<li> <b>Messages sorted by:</b>\n",
       "<a href=\"date.html#480\">[ date ]</a>\n",
       "<a href=\"thread.html#480\">[ thread ]</a>\n",
       "<a href=\"subject.html#480\">[ subject ]</a>\n",
       "<a href=\"author.html#480\">[ author ]</a>\n",
       "</li>\n",
       "</ul>\n",
       "<hr/>\n",
       "<a href=\"http://mailman.mit.edu/mailman/listinfo/mitml\">More information about the Mitml\n",
       "mailing list</a><br/>\n",
       "</p></p></body></html>"
      ]
     },
     "execution_count": 5,
     "metadata": {},
     "output_type": "execute_result"
    }
   ],
   "source": [
    "htmls[0]"
   ]
  },
  {
   "cell_type": "markdown",
   "metadata": {},
   "source": [
    "## Get title"
   ]
  },
  {
   "cell_type": "code",
   "execution_count": 10,
   "metadata": {},
   "outputs": [
    {
     "data": {
      "text/plain": [
       "' [Mitml] (TODAY) Statistics Special Seminar - Prateek Jain (Microsoft Research) - Tuesday, Aug 21st@2:00pm, E18-304\\n   '"
      ]
     },
     "execution_count": 10,
     "metadata": {},
     "output_type": "execute_result"
    }
   ],
   "source": [
    "soup.title.string"
   ]
  },
  {
   "cell_type": "code",
   "execution_count": 15,
   "metadata": {},
   "outputs": [
    {
     "data": {
      "text/plain": [
       "<title> [Mitml] (TODAY) Statistics Special Seminar - Prateek Jain (Microsoft Research) - Tuesday, Aug 21st@2:00pm, E18-304\n",
       "   </title>"
      ]
     },
     "execution_count": 15,
     "metadata": {},
     "output_type": "execute_result"
    }
   ],
   "source": [
    "soup.title"
   ]
  },
  {
   "cell_type": "markdown",
   "metadata": {},
   "source": [
    "## Get time and date"
   ]
  },
  {
   "cell_type": "code",
   "execution_count": 51,
   "metadata": {},
   "outputs": [],
   "source": [
    "jar_files = \"../../packages/python-sutime/jars/\"\n",
    "\n",
    "try:\n",
    "    sutime = SUTime(jars=jar_files, mark_time_ranges=True)\n",
    "except OSError: \n",
    "    sutime = SUTime(jars=jar_files, jvm_started=True, mark_time_ranges=True, include_range=True)\n",
    "\n",
    "    \n",
    "def sutime_results(text, reference='', sutime=sutime): \n",
    "    \n",
    "    if len(reference) == 0:\n",
    "        results = sutime.parse(text)\n",
    "    else: \n",
    "        results = sutime.parse(text, reference)\n",
    "        \n",
    "    return results"
   ]
  },
  {
   "cell_type": "code",
   "execution_count": 81,
   "metadata": {
    "scrolled": true
   },
   "outputs": [
    {
     "name": "stdout",
     "output_type": "stream",
     "text": [
      "Fri Dec  8 11:08:18 EST 2017\n",
      "Join us for a talk with Benjamin Recht on Friday, 12/15\n",
      "3:15 PM in classroom 32-155\n",
      "Hosts: Leslie Kaelbling and Pablo Parrilo\n",
      "\n",
      "Title: The statistical foundations of learning to control\n",
      "\n",
      "Abstract: Given the dramatic successes in machine learning and reinforcement learning over the past half decade, there has been a resurgence of interest in applying these techniques to continuous control problems in robotics, self-driving cars, and unmanned aerial vehicles.  Though such control applications appear to be straightforward generalizations of standard reinforcement learning, few fundamental baselines have been established prescribing how well one must know a system in order to control it.  In this talk, I will discuss how one might merge techniques from statistical learning theory with robust control to derive such baselines for such continuous control.  I will explore several examples that balance parameter identification against controller design and demonstrate finite sample tradeoffs between estimation fidelity and desired control performance.  I will describe how these simple baselines give us insights into shortcomings of existing reinforcement learning methodology.  I will close by listing several exciting open problems that must be solved before we can build robust, safe learning systems that interact with an uncertain physical environment.\n",
      "\n",
      "Bio: Benjamin Recht is an Associate Professor in the Department of Electrical Engineering and Computer Sciences at the University of California, Berkeley. Ben's research group studies the theory and practice of optimization algorithms with a focus on applications in machine learning and data analysis. They are particularly interested in busting machine learning myths and establishing baselines for data analysis. Ben is the recipient of a Presidential Early Career Awards for Scientists and Engineers, an Alfred P. Sloan Research Fellowship, the 2012 SIAM/MOS Lagrange Prize in Continuous Optimization, the 2014 Jamon Prize, the 2015 William O. Baker Award for Initiatives in Research, and the NIPS Test of Time Award.\n",
      "\n",
      "\n",
      "\n",
      "\n"
     ]
    }
   ],
   "source": [
    "html = htmls[64]\n",
    "\n",
    "sent_time = html.i.text\n",
    "body_text = html.pre.text\n",
    "\n",
    "print(sent_time)\n",
    "print(body_text)"
   ]
  },
  {
   "cell_type": "code",
   "execution_count": 82,
   "metadata": {},
   "outputs": [
    {
     "data": {
      "text/plain": [
       "'2017-12-08T11:08:18-05:00'"
      ]
     },
     "execution_count": 82,
     "metadata": {},
     "output_type": "execute_result"
    }
   ],
   "source": [
    "# Get email timestamp\n",
    "reference_time = parser.parse(sutime_results(sent_time)[0]['value']).isoformat()\n",
    "reference_time"
   ]
  },
  {
   "cell_type": "code",
   "execution_count": 84,
   "metadata": {},
   "outputs": [],
   "source": [
    "matches = sutime_results(body_text, reference_time)\n",
    "\n",
    "date_matches = []\n",
    "duration_matches = []\n",
    "other_matches = []\n",
    "\n",
    "for match in matches: \n",
    "    if match['type'] == 'DATE': date_matches.append(match)\n",
    "    elif match['type'] == 'DURATION': duration_matches.append(match)\n",
    "    else: other_matches.append(match)\n",
    "\n",
    "# for match in date_matches:\n",
    "#     print(match)\n",
    "#     parser.parse(match[\"value\"], fuzzy=True)"
   ]
  },
  {
   "cell_type": "code",
   "execution_count": 86,
   "metadata": {},
   "outputs": [
    {
     "data": {
      "text/plain": [
       "[{'start': 42,\n",
       "  'end': 48,\n",
       "  'text': 'Friday',\n",
       "  'type': 'DATE',\n",
       "  'value': '2017-12-08'},\n",
       " {'start': 56,\n",
       "  'end': 63,\n",
       "  'text': '3:15 PM',\n",
       "  'type': 'TIME',\n",
       "  'value': '2017-12-08T15:15'},\n",
       " {'start': 277,\n",
       "  'end': 285,\n",
       "  'text': 'the past',\n",
       "  'type': 'DATE',\n",
       "  'value': 'PAST_REF'},\n",
       " {'start': 291,\n",
       "  'end': 297,\n",
       "  'text': 'decade',\n",
       "  'type': 'DURATION',\n",
       "  'value': 'P10Y'},\n",
       " {'start': 1915, 'end': 1919, 'text': '2012', 'type': 'DATE', 'value': '2012'},\n",
       " {'start': 1976, 'end': 1980, 'text': '2014', 'type': 'DATE', 'value': '2014'},\n",
       " {'start': 1998, 'end': 2002, 'text': '2015', 'type': 'DATE', 'value': '2015'}]"
      ]
     },
     "execution_count": 86,
     "metadata": {},
     "output_type": "execute_result"
    }
   ],
   "source": [
    "matches"
   ]
  },
  {
   "cell_type": "code",
   "execution_count": 85,
   "metadata": {},
   "outputs": [
    {
     "data": {
      "text/plain": [
       "[{'start': 42,\n",
       "  'end': 48,\n",
       "  'text': 'Friday',\n",
       "  'type': 'DATE',\n",
       "  'value': '2017-12-08'},\n",
       " {'start': 277,\n",
       "  'end': 285,\n",
       "  'text': 'the past',\n",
       "  'type': 'DATE',\n",
       "  'value': 'PAST_REF'},\n",
       " {'start': 1915, 'end': 1919, 'text': '2012', 'type': 'DATE', 'value': '2012'},\n",
       " {'start': 1976, 'end': 1980, 'text': '2014', 'type': 'DATE', 'value': '2014'},\n",
       " {'start': 1998, 'end': 2002, 'text': '2015', 'type': 'DATE', 'value': '2015'}]"
      ]
     },
     "execution_count": 85,
     "metadata": {},
     "output_type": "execute_result"
    }
   ],
   "source": [
    "date_matches"
   ]
  },
  {
   "cell_type": "code",
   "execution_count": 80,
   "metadata": {},
   "outputs": [
    {
     "data": {
      "text/plain": [
       "[{'start': 315,\n",
       "  'end': 333,\n",
       "  'text': '3:00 PM to 4:00 PM',\n",
       "  'type': 'DURATION',\n",
       "  'value': {'end': 'T16:00', 'begin': 'T15:00'}},\n",
       " {'start': 412,\n",
       "  'end': 424,\n",
       "  'text': 'recent years',\n",
       "  'type': 'DURATION',\n",
       "  'value': 'PXY'}]"
      ]
     },
     "execution_count": 80,
     "metadata": {},
     "output_type": "execute_result"
    }
   ],
   "source": [
    "duration_matches"
   ]
  },
  {
   "cell_type": "code",
   "execution_count": 79,
   "metadata": {},
   "outputs": [
    {
     "data": {
      "text/plain": [
       "datetime.datetime(2018, 8, 23, 4, 0)"
      ]
     },
     "execution_count": 79,
     "metadata": {},
     "output_type": "execute_result"
    }
   ],
   "source": [
    "parser.parse(duration_matches[0]['text'],fuzzy=True)"
   ]
  },
  {
   "cell_type": "code",
   "execution_count": 67,
   "metadata": {},
   "outputs": [
    {
     "data": {
      "text/plain": [
       "'2018-08-23T00:00:00'"
      ]
     },
     "execution_count": 67,
     "metadata": {},
     "output_type": "execute_result"
    }
   ],
   "source": [
    "parser.parse(\"2018\").isoformat()"
   ]
  },
  {
   "cell_type": "code",
   "execution_count": null,
   "metadata": {},
   "outputs": [],
   "source": []
  },
  {
   "cell_type": "code",
   "execution_count": 50,
   "metadata": {},
   "outputs": [
    {
     "data": {
      "text/plain": [
       "[{'start': 109,\n",
       "  'end': 126,\n",
       "  'text': 'Monday, June 11th',\n",
       "  'type': 'DATE',\n",
       "  'value': '2018-06-11'},\n",
       " {'start': 132,\n",
       "  'end': 142,\n",
       "  'text': '9:30am',\n",
       "  'type': 'TIME',\n",
       "  'value': '2018-05-24T09:30'},\n",
       " {'start': 286,\n",
       "  'end': 306,\n",
       "  'text': 'the end of the month',\n",
       "  'type': 'DATE',\n",
       "  'value': '2018-05'},\n",
       " {'start': 1655,\n",
       "  'end': 1676,\n",
       "  'text': 'Monday, June 11, 2018',\n",
       "  'type': 'DATE',\n",
       "  'value': '2018-06-11'},\n",
       " {'start': 1677,\n",
       "  'end': 1700,\n",
       "  'text': 'from 9:30 AM to 7:00 PM',\n",
       "  'type': 'DURATION',\n",
       "  'value': {'end': 'T19:00', 'begin': 'T09:30'}},\n",
       " {'start': 1860,\n",
       "  'end': 1865,\n",
       "  'text': '02142',\n",
       "  'type': 'DATE',\n",
       "  'value': '2142'},\n",
       " {'start': 4225,\n",
       "  'end': 4242,\n",
       "  'text': 'Monday, June 11th',\n",
       "  'type': 'DATE',\n",
       "  'value': '2018-06-11'},\n",
       " {'start': 4247,\n",
       "  'end': 4252,\n",
       "  'text': 'a day',\n",
       "  'type': 'DURATION',\n",
       "  'value': 'P1D'},\n",
       " {'start': 4483,\n",
       "  'end': 4499,\n",
       "  'text': 'the month of May',\n",
       "  'type': 'DATE',\n",
       "  'value': '2018-05'},\n",
       " {'start': 4515,\n",
       "  'end': 4522,\n",
       "  'text': 'Current',\n",
       "  'type': 'DATE',\n",
       "  'value': 'PRESENT_REF'},\n",
       " {'start': 6213,\n",
       "  'end': 6224,\n",
       "  'text': '13-year-old',\n",
       "  'type': 'DURATION',\n",
       "  'value': 'P13Y'},\n",
       " {'start': 7798,\n",
       "  'end': 7808,\n",
       "  'text': 'end of May',\n",
       "  'type': 'DATE',\n",
       "  'value': '2018-05'},\n",
       " {'start': 7824,\n",
       "  'end': 7830,\n",
       "  'text': '9:30am',\n",
       "  'type': 'TIME',\n",
       "  'value': '2018-05-24T09:30'},\n",
       " {'start': 7866,\n",
       "  'end': 7870,\n",
       "  'text': '10am',\n",
       "  'type': 'TIME',\n",
       "  'value': '2018-05-24T10:00'},\n",
       " {'start': 7914,\n",
       "  'end': 7918,\n",
       "  'text': '12pm',\n",
       "  'type': 'TIME',\n",
       "  'value': '2018-05-24T12:00'},\n",
       " {'start': 7947,\n",
       "  'end': 7953,\n",
       "  'text': '4:30pm',\n",
       "  'type': 'TIME',\n",
       "  'value': '2018-05-24T16:30'},\n",
       " {'start': 7981,\n",
       "  'end': 7990,\n",
       "  'text': '5pm - 7pm',\n",
       "  'type': 'DURATION',\n",
       "  'value': {'end': 'T19:00', 'begin': 'T17:00'}}]"
      ]
     },
     "execution_count": 50,
     "metadata": {},
     "output_type": "execute_result"
    }
   ],
   "source": [
    "sutime_results(body_text, reference_time)"
   ]
  },
  {
   "cell_type": "code",
   "execution_count": 57,
   "metadata": {},
   "outputs": [
    {
     "data": {
      "text/plain": [
       "datetime.datetime(2018, 4, 25, 0, 0)"
      ]
     },
     "execution_count": 57,
     "metadata": {},
     "output_type": "execute_result"
    }
   ],
   "source": [
    "parser.parse(sutime_results(tmp.pre.text)[0]['value'][-10:], fuzzy=True)"
   ]
  },
  {
   "cell_type": "code",
   "execution_count": 58,
   "metadata": {},
   "outputs": [
    {
     "data": {
      "text/plain": [
       "'THIS XXXX-WXX-3 INTERSECT XXXX-04-25'"
      ]
     },
     "execution_count": 58,
     "metadata": {},
     "output_type": "execute_result"
    }
   ],
   "source": [
    "sutime_results(tmp.pre.text)[0]['value']"
   ]
  },
  {
   "cell_type": "code",
   "execution_count": 65,
   "metadata": {},
   "outputs": [
    {
     "data": {
      "text/plain": [
       "[{'start': 0, 'end': 5, 'text': 'today', 'type': 'DATE', 'value': 'XXXX'}]"
      ]
     },
     "execution_count": 65,
     "metadata": {},
     "output_type": "execute_result"
    }
   ],
   "source": [
    "json.loads(sutime._sutime.annotate(\"today\", sent_time))"
   ]
  },
  {
   "cell_type": "code",
   "execution_count": 62,
   "metadata": {},
   "outputs": [
    {
     "data": {
      "text/plain": [
       "'2018-04-21T16:59:00-0500'"
      ]
     },
     "execution_count": 62,
     "metadata": {},
     "output_type": "execute_result"
    }
   ],
   "source": [
    "sutime_results(sent_time)[0]['value']"
   ]
  },
  {
   "cell_type": "code",
   "execution_count": 9,
   "metadata": {},
   "outputs": [
    {
     "data": {
      "text/plain": [
       "'[{\"start\":0,\"end\":5,\"text\":\"today\",\"type\":\"DATE\",\"value\":\"2018-08-23\"}]'"
      ]
     },
     "execution_count": 9,
     "metadata": {},
     "output_type": "execute_result"
    }
   ],
   "source": [
    "sutime._sutime.annotate(\"today\")"
   ]
  },
  {
   "cell_type": "code",
   "execution_count": 11,
   "metadata": {},
   "outputs": [
    {
     "data": {
      "text/plain": [
       "datetime.date(2017, 1, 9)"
      ]
     },
     "execution_count": 11,
     "metadata": {},
     "output_type": "execute_result"
    }
   ],
   "source": [
    "from datetime import date\n",
    "\n",
    "date(2017, 1, 9)\n"
   ]
  },
  {
   "cell_type": "code",
   "execution_count": 17,
   "metadata": {},
   "outputs": [],
   "source": [
    "def input_today():\n",
    "    return 'I have written a test today.'\n",
    "\n",
    "result = sutime.parse(\"today\", date(2017, 1, 9).isoformat())"
   ]
  },
  {
   "cell_type": "code",
   "execution_count": 15,
   "metadata": {},
   "outputs": [
    {
     "data": {
      "text/plain": [
       "'2017-01-09'"
      ]
     },
     "execution_count": 15,
     "metadata": {},
     "output_type": "execute_result"
    }
   ],
   "source": [
    "date(2017, 1, 9).isoformat()"
   ]
  },
  {
   "cell_type": "code",
   "execution_count": 22,
   "metadata": {},
   "outputs": [
    {
     "data": {
      "text/plain": [
       "[{'start': 0,\n",
       "  'end': 5,\n",
       "  'text': 'today',\n",
       "  'type': 'DATE',\n",
       "  'value': '2018-08-21'}]"
      ]
     },
     "execution_count": 22,
     "metadata": {},
     "output_type": "execute_result"
    }
   ],
   "source": [
    "sutime.parse(\"today\", reference_time.isoformat())"
   ]
  },
  {
   "cell_type": "code",
   "execution_count": null,
   "metadata": {},
   "outputs": [],
   "source": []
  }
 ],
 "metadata": {
  "kernelspec": {
   "display_name": "Python 3",
   "language": "python",
   "name": "python3"
  },
  "language_info": {
   "codemirror_mode": {
    "name": "ipython",
    "version": 3
   },
   "file_extension": ".py",
   "mimetype": "text/x-python",
   "name": "python",
   "nbconvert_exporter": "python",
   "pygments_lexer": "ipython3",
   "version": "3.6.5"
  }
 },
 "nbformat": 4,
 "nbformat_minor": 2
}
