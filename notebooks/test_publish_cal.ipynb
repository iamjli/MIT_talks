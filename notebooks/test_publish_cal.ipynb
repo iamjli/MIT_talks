{
 "cells": [
  {
   "cell_type": "code",
   "execution_count": 1,
   "metadata": {},
   "outputs": [],
   "source": [
    "import datetime\n",
    "from googleapiclient.discovery import build\n",
    "from httplib2 import Http\n",
    "from oauth2client import file, client, tools"
   ]
  },
  {
   "cell_type": "markdown",
   "metadata": {},
   "source": [
    "# Fetch listing"
   ]
  },
  {
   "cell_type": "code",
   "execution_count": 8,
   "metadata": {},
   "outputs": [],
   "source": [
    "# systems\n",
    "import os, sys\n",
    "\n",
    "from dateutil import parser\n",
    "\n",
    "# scraping websites\n",
    "import json\n",
    "import requests\n",
    "from bs4 import BeautifulSoup\n",
    "\n",
    "# language processing\n",
    "from sutime import SUTime\n",
    "\n",
    "#\n",
    "sys.path.insert(0, '../src/')\n",
    "from parse_listing import *"
   ]
  },
  {
   "cell_type": "code",
   "execution_count": 9,
   "metadata": {},
   "outputs": [],
   "source": [
    "list_id = \"mitml\"\n",
    "base_url = \"http://mailman.mit.edu/mailman/private/\"\n",
    "\n",
    "local_dir = '../listings/'\n",
    "local_list_dir = os.path.join(local_dir, list_id)\n",
    "local_list_dir\n",
    "\n",
    "# Import URLs and indices\n",
    "with open(os.path.join(local_list_dir, 'urls.txt'), 'r') as f: \n",
    "    urls = [line.rstrip() for line in f.readlines()]\n",
    "    indices = [os.path.basename(url) for url in urls]"
   ]
  },
  {
   "cell_type": "code",
   "execution_count": 13,
   "metadata": {},
   "outputs": [],
   "source": [
    "listing = Listing(list_id, \"000479.html\")"
   ]
  },
  {
   "cell_type": "code",
   "execution_count": 15,
   "metadata": {},
   "outputs": [],
   "source": [
    "if listing.is_talk: \n",
    "    \n",
    "    datetime_df = listing.get_datetime_predictions()\n",
    "    listing.get_location()\n",
    "    \n",
    "    date = listing.predict_date\n",
    "    start, end = listing.predict_start, listing.predict_end\n",
    "    loc = listing.predict_location"
   ]
  },
  {
   "cell_type": "code",
   "execution_count": 16,
   "metadata": {},
   "outputs": [
    {
     "name": "stdout",
     "output_type": "stream",
     "text": [
      "2018-08-21 14:00 15:00 E18-304\n"
     ]
    }
   ],
   "source": [
    "print(date, start, end, loc)"
   ]
  },
  {
   "cell_type": "code",
   "execution_count": 24,
   "metadata": {},
   "outputs": [
    {
     "data": {
      "text/plain": [
       "'2018-08-21T14:00:00'"
      ]
     },
     "execution_count": 24,
     "metadata": {},
     "output_type": "execute_result"
    }
   ],
   "source": [
    "datetime.strptime('T'.join([date, start]), '%Y-%m-%dT%H:%M').isoformat()"
   ]
  },
  {
   "cell_type": "code",
   "execution_count": 33,
   "metadata": {},
   "outputs": [
    {
     "data": {
      "text/plain": [
       "'2018-08-21T14:00:00'"
      ]
     },
     "execution_count": 33,
     "metadata": {},
     "output_type": "execute_result"
    }
   ],
   "source": [
    "parser.parse('2018-08-21 14:00').isoformat()"
   ]
  },
  {
   "cell_type": "markdown",
   "metadata": {},
   "source": [
    "# Google Auth instructions\n",
    "   \n",
    "Follow [here](https://developers.google.com/calendar/quickstart/python). But save client secrets as `client_secrets.json` and leave `credentials.json` empty. The following code may have to be run via CMD python shell during initialization. "
   ]
  },
  {
   "cell_type": "code",
   "execution_count": 3,
   "metadata": {},
   "outputs": [],
   "source": [
    "# Setup the Gmail API\n",
    "SCOPES =  'https://www.googleapis.com/auth/calendar'\n",
    "\n",
    "store = file.Storage('../credentials/credentials.json')\n",
    "creds = store.get()\n",
    "if not creds or creds.invalid:\n",
    "    flow = client.flow_from_clientsecrets('../credentials/client_secret.json', SCOPES)\n",
    "    creds = tools.run_flow(flow, store)"
   ]
  },
  {
   "cell_type": "code",
   "execution_count": 4,
   "metadata": {},
   "outputs": [],
   "source": [
    "service = build('calendar', 'v3', http=creds.authorize(Http()))"
   ]
  },
  {
   "cell_type": "markdown",
   "metadata": {},
   "source": [
    "Generate new calendar"
   ]
  },
  {
   "cell_type": "code",
   "execution_count": 6,
   "metadata": {},
   "outputs": [
    {
     "name": "stdout",
     "output_type": "stream",
     "text": [
      "7abvvsospg5s9cors0g9bn6veo@group.calendar.google.com\n"
     ]
    }
   ],
   "source": [
    "calendar = {\n",
    "    'summary': 'mitml',\n",
    "    'timeZone': 'America/New_York'\n",
    "}\n",
    "\n",
    "created_calendar = service.calendars().insert(body=calendar).execute()\n",
    "\n",
    "print(created_calendar['id'])"
   ]
  },
  {
   "cell_type": "code",
   "execution_count": 27,
   "metadata": {},
   "outputs": [
    {
     "name": "stdout",
     "output_type": "stream",
     "text": [
      "Event created: https://www.google.com/calendar/event?eid=aWVxbzk0OTZiaTVqOHNkamRpa2ZwaXBvbTQgN2FidnZzb3NwZzVzOWNvcnMwZzlibjZ2ZW9AZw\n"
     ]
    }
   ],
   "source": [
    "event = {\n",
    "    'summary': listing.title,\n",
    "    'location': listing.predict_location,\n",
    "    'description': listing.url,\n",
    "    'start': {\n",
    "        'dateTime': datetime.strptime('T'.join([date, start]), '%Y-%m-%dT%H:%M').isoformat(),\n",
    "        'timeZone': 'America/New_York',\n",
    "    },\n",
    "    'end': {\n",
    "        'dateTime': datetime.strptime('T'.join([date, end]), '%Y-%m-%dT%H:%M').isoformat(),\n",
    "        'timeZone': 'America/New_York',\n",
    "    },\n",
    "    'attendees': [\n",
    "        {'email': 'jonathanli6022@gmail.com'}\n",
    "    ],\n",
    "    'reminders': {\n",
    "        'useDefault': False,\n",
    "        'overrides': [\n",
    "            {'method': 'email', 'minutes': 24 * 60},\n",
    "            {'method': 'popup', 'minutes': 10},\n",
    "        ],\n",
    "    },\n",
    "}\n",
    "\n",
    "event = service.events().insert(calendarId='7abvvsospg5s9cors0g9bn6veo@group.calendar.google.com', body=event).execute()\n",
    "print('Event created: %s' % (event.get('htmlLink')))"
   ]
  },
  {
   "cell_type": "code",
   "execution_count": null,
   "metadata": {},
   "outputs": [],
   "source": []
  }
 ],
 "metadata": {
  "kernelspec": {
   "display_name": "Python 3",
   "language": "python",
   "name": "python3"
  },
  "language_info": {
   "codemirror_mode": {
    "name": "ipython",
    "version": 3
   },
   "file_extension": ".py",
   "mimetype": "text/x-python",
   "name": "python",
   "nbconvert_exporter": "python",
   "pygments_lexer": "ipython3",
   "version": "3.6.5"
  }
 },
 "nbformat": 4,
 "nbformat_minor": 2
}
