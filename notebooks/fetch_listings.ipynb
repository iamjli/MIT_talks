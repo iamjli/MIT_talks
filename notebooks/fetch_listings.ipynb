{
 "cells": [
  {
   "cell_type": "code",
   "execution_count": 1,
   "metadata": {},
   "outputs": [],
   "source": [
    "# systems\n",
    "import os\n",
    "\n",
    "# scraping websites\n",
    "import json\n",
    "import requests\n",
    "from bs4 import BeautifulSoup\n",
    "\n",
    "# language processing\n",
    "from sutime import SUTime"
   ]
  },
  {
   "cell_type": "markdown",
   "metadata": {},
   "source": [
    "## Get listings"
   ]
  },
  {
   "cell_type": "markdown",
   "metadata": {},
   "source": [
    "Set up session"
   ]
  },
  {
   "cell_type": "code",
   "execution_count": 2,
   "metadata": {},
   "outputs": [],
   "source": [
    "with open('../credentials/MIT_login.json') as f: \n",
    "    login_data = json.load(f)"
   ]
  },
  {
   "cell_type": "code",
   "execution_count": 3,
   "metadata": {},
   "outputs": [
    {
     "data": {
      "text/plain": [
       "<Response [200]>"
      ]
     },
     "execution_count": 3,
     "metadata": {},
     "output_type": "execute_result"
    }
   ],
   "source": [
    "s = requests.session()\n",
    "s.post(\"http://mailman.mit.edu/mailman/private/mitml/\", login_data)"
   ]
  },
  {
   "cell_type": "code",
   "execution_count": 7,
   "metadata": {},
   "outputs": [],
   "source": [
    "def get_soup(url, session=s): \n",
    "    response = session.post(url)\n",
    "    return BeautifulSoup(response.text, 'html.parser')"
   ]
  },
  {
   "cell_type": "markdown",
   "metadata": {},
   "source": [
    "Get listings by batch"
   ]
  },
  {
   "cell_type": "code",
   "execution_count": 5,
   "metadata": {},
   "outputs": [],
   "source": [
    "list_id = \"mitml\"\n",
    "base_url = \"http://mailman.mit.edu/mailman/private/\""
   ]
  },
  {
   "cell_type": "code",
   "execution_count": 8,
   "metadata": {},
   "outputs": [],
   "source": [
    "# Request home \n",
    "home_url = os.path.join(base_url, list_id)\n",
    "home_soup = get_soup(home_url)\n",
    "\n",
    "# Get batch urls (by date)\n",
    "batch_urls = [os.path.join(home_url, subpage.get('href')) for subpage in home_soup.body.table.find_all(href=True) if 'date' in subpage.get('href')]"
   ]
  },
  {
   "cell_type": "code",
   "execution_count": 17,
   "metadata": {
    "scrolled": true
   },
   "outputs": [
    {
     "name": "stdout",
     "output_type": "stream",
     "text": [
      "481 listings found.\n"
     ]
    }
   ],
   "source": [
    "listings = {}\n",
    "\n",
    "for batch_url in batch_urls:\n",
    "    # For each batch, find indices to each listing\n",
    "    batch_soup = get_soup(batch_url)\n",
    "\n",
    "    indices = [subpage.get('href') for subpage in batch_soup.body.find_all('ul')[1].find_all(href=True)]\n",
    "    \n",
    "    # Generate full paths and append to list\n",
    "    for index in indices[::-1]: \n",
    "        url = os.path.join(os.path.dirname(batch_url), index)\n",
    "        listings[index] = {\n",
    "            \"url\" : url, \n",
    "            \"html\": get_soup(url)\n",
    "        }\n",
    "        \n",
    "print(\"{} listings found.\".format(len(listing_urls)))"
   ]
  },
  {
   "cell_type": "markdown",
   "metadata": {},
   "source": [
    "Write file locally"
   ]
  },
  {
   "cell_type": "code",
   "execution_count": 50,
   "metadata": {},
   "outputs": [],
   "source": [
    "local_dir = '../listings/'\n",
    "urls = []\n",
    "\n",
    "for index, dic in listings.items(): \n",
    "    \n",
    "    urls.append(dic['url'])\n",
    "    \n",
    "    with open(os.path.join(local_dir, list_id, index), 'w') as f: \n",
    "        f.write(str(dic['html']))\n",
    "        \n",
    "with open(os.path.join(local_dir, list_id, 'urls.txt'), 'w') as f: \n",
    "    f.write('\\n'.join(urls))"
   ]
  },
  {
   "cell_type": "code",
   "execution_count": null,
   "metadata": {},
   "outputs": [],
   "source": []
  }
 ],
 "metadata": {
  "kernelspec": {
   "display_name": "Python 3",
   "language": "python",
   "name": "python3"
  },
  "language_info": {
   "codemirror_mode": {
    "name": "ipython",
    "version": 3
   },
   "file_extension": ".py",
   "mimetype": "text/x-python",
   "name": "python",
   "nbconvert_exporter": "python",
   "pygments_lexer": "ipython3",
   "version": "3.6.5"
  }
 },
 "nbformat": 4,
 "nbformat_minor": 2
}
