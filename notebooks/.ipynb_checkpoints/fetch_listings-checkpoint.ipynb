{
 "cells": [
  {
   "cell_type": "code",
   "execution_count": 1,
   "metadata": {},
   "outputs": [],
   "source": [
    "import requests\n",
    "\n",
    "import json\n",
    "\n",
    "from bs4 import BeautifulSoup"
   ]
  },
  {
   "cell_type": "code",
   "execution_count": 2,
   "metadata": {},
   "outputs": [],
   "source": [
    "with open('../credentials/MIT_login.json') as f: \n",
    "    login_data = json.load(f)"
   ]
  },
  {
   "cell_type": "code",
   "execution_count": 3,
   "metadata": {},
   "outputs": [],
   "source": [
    "s = requests.session()"
   ]
  },
  {
   "cell_type": "code",
   "execution_count": 4,
   "metadata": {},
   "outputs": [],
   "source": [
    "r = s.post(\"http://mailman.mit.edu/mailman/private/mitml/2018-August/000479.html\", login_data)"
   ]
  },
  {
   "cell_type": "code",
   "execution_count": 5,
   "metadata": {
    "scrolled": false
   },
   "outputs": [
    {
     "data": {
      "text/plain": [
       "<!DOCTYPE HTML PUBLIC \"-//W3C//DTD HTML 3.2//EN\">\n",
       "\n",
       "<html>\n",
       "<head>\n",
       "<title> [Mitml] (TODAY) Statistics Special Seminar - Prateek Jain (Microsoft Research) - Tuesday, Aug 21st@2:00pm, E18-304\n",
       "   </title>\n",
       "<link href=\"index.html\" rel=\"Index\"/>\n",
       "<link href=\"mailto:mitml%40mit.edu?Subject=%5BMitml%5D%20%28TODAY%29%20Statistics%20Special%20Seminar%20-%20Prateek%20Jain%0A%20%28Microsoft%20Research%29%20-%20Tuesday%2C%20Aug%2021st%402%3A00pm%2C%20E18-304&amp;In-Reply-To=\" rel=\"made\"/>\n",
       "<meta content=\"index,nofollow\" name=\"robots\"/>\n",
       "<meta content=\"text/html; charset=utf-8\" http-equiv=\"Content-Type\"/>\n",
       "<link href=\"000480.html\" rel=\"Next\"/>\n",
       "</head>\n",
       "<body bgcolor=\"#ffffff\">\n",
       "<h1>[Mitml] (TODAY) Statistics Special Seminar - Prateek Jain (Microsoft Research) - Tuesday, Aug 21st@2:00pm, E18-304</h1>\n",
       "<b>Yash Deshpande</b>\n",
       "<a href=\"mailto:mitml%40mit.edu?Subject=%5BMitml%5D%20%28TODAY%29%20Statistics%20Special%20Seminar%20-%20Prateek%20Jain%0A%20%28Microsoft%20Research%29%20-%20Tuesday%2C%20Aug%2021st%402%3A00pm%2C%20E18-304&amp;In-Reply-To=\" title=\"[Mitml] (TODAY) Statistics Special Seminar - Prateek Jain (Microsoft Research) - Tuesday, Aug 21st@2:00pm, E18-304\">yash at mit.edu\n",
       "       </a><br/>\n",
       "<i>Tue Aug 21 13:52:56 EDT 2018</i>\n",
       "<p><ul>\n",
       "<li>Next message: <a href=\"000480.html\">[Mitml] Call for Papers: NIPS 2018 Workshop \"All of Bayesian Nonparametrics (Especially the Useful Bits)\"\n",
       "</a></li>\n",
       "<li> <b>Messages sorted by:</b>\n",
       "<a href=\"date.html#479\">[ date ]</a>\n",
       "<a href=\"thread.html#479\">[ thread ]</a>\n",
       "<a href=\"subject.html#479\">[ subject ]</a>\n",
       "<a href=\"author.html#479\">[ author ]</a>\n",
       "</li>\n",
       "</ul>\n",
       "<hr/>\n",
       "<!--beginarticle-->\n",
       "<pre>Statistics Special Seminar | Tuesday, August 21 @ 2:00 pm - 3:00 pm in Room E18-304\n",
       "\n",
       "Title: Resource-efficient ML in 2 KB RAM for the Internet of Things\n",
       "<a href=\"https://stat.mit.edu/calendar/prateek-jain/\">https://stat.mit.edu/calendar/prateek-jain/</a>\n",
       "\n",
       "Speaker:\n",
       "Prateek Jain (Microsoft Research)\n",
       "<a href=\"https://www.microsoft.com/en-us/research/people/prajain/\">https://www.microsoft.com/en-us/research/people/prajain/</a>\n",
       "\n",
       "Abstract: We propose an alternative paradigm for the Internet of Things (IoT) where machine learning algorithms run locally on severely resource-constrained edge and endpoint devices without necessarily needing cloud connectivity. This enables many scenarios beyond the pale of the traditional paradigm including low-latency brain implants, precision agriculture on disconnected farms, privacy-preserving smart spectacles, etc.\n",
       "Towards this end, we develop novel tree and kNN based algorithm, called Bonsai and ProtoNN, for efficient prediction on IoT devices — such as those based on the Arduino Uno board having an 8 bit ATmega328P microcontroller operating at 16 MHz with no native floating point support, 2 KB RAM and 32 KB read-only flash memory. Experimental results on multiple benchmark datasets demonstrate that Bonsai and ProtoNN can make predictions in milliseconds even on slow microcontrollers, can fit in KB of memory, have lower battery consumption than all other algorithms while achieving prediction accuracies that can be as much as 30% higher than state-of-the-art methods for resource-efficient machine learning.\n",
       "Time permitting, I will also discuss our recent results about deploying RNNs on similar sized tiny devices.\n",
       "Joint work with Manik Varma, Harsha Simhadri, Arun Suggala, Ankit Goyal, Chirag Gupta, Don Dennis, Aditya Kusupati, Shishir Patil, Ashish Kumar.\n",
       "\n",
       "Speaker bio: Prateek Jain is a member of the Machine Learning and Optimization and the Algorithms and Data Sciences Group at Microsoft Research, Bangalore, India. He is also an adjunct faculty member at the Computer Science department at IIT Kanpur. His research interests are in machine learning, non-convex optimization, high-dimensional statistics, and optimization algorithms in general. He is also interested in applications of machine learning to privacy, computer vision, text mining and natural language processing. He completed his PhD at the University of Texas at Austin under Prof. Inderjit S. Dhillon.\n",
       "\n",
       "\n",
       "\n",
       "\n",
       "-------------- next part --------------\n",
       "An HTML attachment was scrubbed...\n",
       "URL: <a href=\"http://mailman.mit.edu/mailman/private/mitml/attachments/20180821/87d15342/attachment.html\">http://mailman.mit.edu/mailman/private/mitml/attachments/20180821/87d15342/attachment.html</a>\n",
       "</pre>\n",
       "<!--endarticle-->\n",
       "<hr/>\n",
       "<p><ul>\n",
       "<!--threads-->\n",
       "<li>Next message: <a href=\"000480.html\">[Mitml] Call for Papers: NIPS 2018 Workshop \"All of Bayesian Nonparametrics (Especially the Useful Bits)\"\n",
       "</a></li>\n",
       "<li> <b>Messages sorted by:</b>\n",
       "<a href=\"date.html#479\">[ date ]</a>\n",
       "<a href=\"thread.html#479\">[ thread ]</a>\n",
       "<a href=\"subject.html#479\">[ subject ]</a>\n",
       "<a href=\"author.html#479\">[ author ]</a>\n",
       "</li>\n",
       "</ul>\n",
       "<hr/>\n",
       "<a href=\"http://mailman.mit.edu/mailman/listinfo/mitml\">More information about the Mitml\n",
       "mailing list</a><br/>\n",
       "</p></p></body></html>"
      ]
     },
     "execution_count": 5,
     "metadata": {},
     "output_type": "execute_result"
    }
   ],
   "source": [
    "soup = BeautifulSoup(r.text, 'html.parser')\n",
    "soup"
   ]
  },
  {
   "cell_type": "code",
   "execution_count": null,
   "metadata": {},
   "outputs": [],
   "source": []
  },
  {
   "cell_type": "code",
   "execution_count": null,
   "metadata": {},
   "outputs": [],
   "source": []
  }
 ],
 "metadata": {
  "kernelspec": {
   "display_name": "Python 3",
   "language": "python",
   "name": "python3"
  },
  "language_info": {
   "codemirror_mode": {
    "name": "ipython",
    "version": 3
   },
   "file_extension": ".py",
   "mimetype": "text/x-python",
   "name": "python",
   "nbconvert_exporter": "python",
   "pygments_lexer": "ipython3",
   "version": "3.6.5"
  }
 },
 "nbformat": 4,
 "nbformat_minor": 2
}
