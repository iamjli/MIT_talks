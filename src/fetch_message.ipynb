{
 "cells": [
  {
   "cell_type": "code",
   "execution_count": 1,
   "metadata": {},
   "outputs": [],
   "source": [
    "import sys\n",
    "\n",
    "from apiclient.discovery import build\n",
    "from httplib2 import Http\n",
    "from oauth2client import file, client, tools\n",
    "\n",
    "from apiclient import errors\n",
    "import base64\n",
    "import email\n",
    "\n",
    "import pandas as pd"
   ]
  },
  {
   "cell_type": "code",
   "execution_count": 2,
   "metadata": {},
   "outputs": [],
   "source": [
    "# Setup the Gmail API\n",
    "SCOPES = 'https://www.googleapis.com/auth/gmail.readonly'\n",
    "store = file.Storage('../credentials/credentials.json')\n",
    "creds = store.get()\n",
    "if not creds or creds.invalid:\n",
    "    flow = client.flow_from_clientsecrets('../credentials/client_secret.json', SCOPES)\n",
    "    creds = tools.run_flow(flow, store)\n",
    "service = build('gmail', 'v1', http=creds.authorize(Http()))"
   ]
  },
  {
   "cell_type": "code",
   "execution_count": 3,
   "metadata": {},
   "outputs": [
    {
     "ename": "NameError",
     "evalue": "name 'adb' is not defined",
     "output_type": "error",
     "traceback": [
      "\u001b[0;31m---------------------------------------------------------------------------\u001b[0m",
      "\u001b[0;31mNameError\u001b[0m                                 Traceback (most recent call last)",
      "\u001b[0;32m<ipython-input-3-b7cfce759ccb>\u001b[0m in \u001b[0;36m<module>\u001b[0;34m()\u001b[0m\n\u001b[1;32m      9\u001b[0m \u001b[0;34m\u001b[0m\u001b[0m\n\u001b[1;32m     10\u001b[0m     \u001b[0;32mreturn\u001b[0m \u001b[0mmessage\u001b[0m\u001b[0;34m\u001b[0m\u001b[0m\n\u001b[0;32m---> 11\u001b[0;31m \u001b[0madb\u001b[0m\u001b[0;34m\u001b[0m\u001b[0m\n\u001b[0m\u001b[1;32m     12\u001b[0m \u001b[0mmessage\u001b[0m \u001b[0;34m=\u001b[0m \u001b[0mGetMailingListContent\u001b[0m\u001b[0;34m(\u001b[0m\u001b[0mservice\u001b[0m\u001b[0;34m,\u001b[0m \u001b[0;34m\"1636a8bb998b1a6e\"\u001b[0m\u001b[0;34m)\u001b[0m\u001b[0;34m\u001b[0m\u001b[0m\n",
      "\u001b[0;31mNameError\u001b[0m: name 'adb' is not defined"
     ]
    }
   ],
   "source": [
    "def DecodeBinary64(string): \n",
    "    return base64.urlsafe_b64decode(string.encode('ASCII')).decode(\"utf-8\")\n",
    "\n",
    "def GetMailingListContent(service, msg_id): \n",
    "    \n",
    "    message = service.users().messages().get(userId=\"me\", id=msg_id, format='full').execute()\n",
    "    msg_str = DecodeBinary64(message[\"payload\"][\"body\"][\"data\"])\n",
    "    print(msg_str)\n",
    "    \n",
    "    return message\n",
    "\n",
    "message = GetMailingListContent(service, \"1636a8bb998b1a6e\")"
   ]
  },
  {
   "cell_type": "code",
   "execution_count": 24,
   "metadata": {},
   "outputs": [],
   "source": [
    "def DecodeBinary64(string): \n",
    "    \n",
    "    return base64.urlsafe_b64decode(string.encode('ASCII')).decode(\"utf-8\")\n",
    "\n",
    "\n",
    "class Message: \n",
    "    \n",
    "    def __init__(self, msg_obj): \n",
    "        \n",
    "        # Metadata\n",
    "        self.id = msg_obj[\"id\"]\n",
    "        self.internalDate = msg_obj[\"internalDate\"]\n",
    "        self.headers = msg_obj[\"payload\"][\"headers\"]\n",
    "        self.headers_df = pd.DataFrame(self.headers).set_index(\"name\")\n",
    "        \n",
    "        self.body = DecodeBinary64(msg_obj[\"payload\"][\"body\"][\"data\"])\n",
    "        \n",
    "    def get_header(self, header): \n",
    "        \n",
    "        values = self.headers_df.loc[header].values\n",
    "        if len(values) > 1: print(\"Multiple headers with key {}.\".format(header))\n",
    "        \n",
    "        return values[0]\n",
    "    \n",
    "    def get_message_content(self): \n",
    "        \n",
    "        \n",
    "    def __str__(self): \n",
    "        return self.body\n",
    "        \n",
    "msg_obj = service.users().messages().get(userId=\"me\", id=\"1636a8bb998b1a6e\", format='full').execute()\n",
    "message = Message(msg_obj)"
   ]
  },
  {
   "cell_type": "code",
   "execution_count": 20,
   "metadata": {},
   "outputs": [
    {
     "data": {
      "text/plain": [
       "'bestudents@mit.edu'"
      ]
     },
     "execution_count": 20,
     "metadata": {},
     "output_type": "execute_result"
    }
   ],
   "source": [
    "message.get_header(\"To\")"
   ]
  },
  {
   "cell_type": "code",
   "execution_count": 31,
   "metadata": {},
   "outputs": [
    {
     "data": {
      "text/plain": [
       "['Send BEstudents mailing list submissions to',\n",
       " 'bestudents@mit.edu',\n",
       " 'To subscribe or unsubscribe via the World Wide Web, visit',\n",
       " 'http://mailman.mit.edu/mailman/listinfo/bestudents',\n",
       " \"or, via email, send a message with subject or body 'help' to\",\n",
       " 'bestudents-request@mit.edu',\n",
       " 'You can reach the person managing the list at',\n",
       " 'bestudents-owner@mit.edu',\n",
       " 'When replying, please edit your Subject line so it is more specific',\n",
       " 'than \"Re: Contents of BEstudents digest...\"',\n",
       " \"Today's Topics:\",\n",
       " '   1. [BE-seminar] BE Seminar with speaker, Kristian Andersen,',\n",
       " '      Thursday, May 24th, at 4:05pm in room 32-141 (Susan J Jaskela)',\n",
       " '----------------------------------------------------------------------',\n",
       " 'Message: 1',\n",
       " 'Date: Wed, 16 May 2018 19:56:05 +0000',\n",
       " 'From: Susan J Jaskela <themats@mit.edu>',\n",
       " 'Subject: [BE students] [BE-seminar] BE Seminar with speaker, Kristian',\n",
       " 'Andersen, Thursday, May 24th, at 4:05pm in room 32-141',\n",
       " 'To: be-seminar <be-seminar@mit.edu>',\n",
       " 'Message-ID: <DFC5BC16-5002-4D94-A7EE-316E1BE7FE25@mit.edu>',\n",
       " 'Content-Type: text/plain; charset=\"utf-8\"',\n",
       " 'BE Seminar Series',\n",
       " 'Hosted by the Ragon Institute and Doug Lauffenburger',\n",
       " 'Speaker:  Kristian Andersen, Scripps Research Institute',\n",
       " 'Talk title: ?Little Big Data in Infectious Disease Research\"',\n",
       " 'Date:  Thursday, May 24th',\n",
       " 'Time:  4:05 PM',\n",
       " 'Room:  32-141',\n",
       " 'The BE Seminar flyer is attached.',\n",
       " '* Please note: There will be no BE Seminar this week.*',\n",
       " '-------------- next part --------------',\n",
       " 'An HTML attachment was scrubbed...',\n",
       " 'URL: http://mailman.mit.edu/mailman/private/bestudents/attachments/20180516/365c5165/attachment.html',\n",
       " '-------------- next part --------------',\n",
       " 'A non-text attachment was scrubbed...',\n",
       " 'Name: BE_Seminar-ANDERSEN_Kristian.pdf',\n",
       " 'Type: application/pdf',\n",
       " 'Size: 362029 bytes',\n",
       " 'Desc: BE_Seminar-ANDERSEN_Kristian.pdf',\n",
       " 'Url : http://mailman.mit.edu/mailman/private/bestudents/attachments/20180516/365c5165/attachment.pdf',\n",
       " '-------------- next part --------------',\n",
       " '_______________________________________________',\n",
       " 'BE-seminar mailing list',\n",
       " 'BE-seminar@mit.edu',\n",
       " 'http://mailman.mit.edu/mailman/listinfo/be-seminar',\n",
       " '------------------------------',\n",
       " '_______________________________________________',\n",
       " 'BEstudents mailing list',\n",
       " 'BEstudents@mit.edu',\n",
       " 'http://mailman.mit.edu/mailman/listinfo/bestudents',\n",
       " 'End of BEstudents Digest, Vol 134, Issue 27',\n",
       " '*******************************************']"
      ]
     },
     "execution_count": 31,
     "metadata": {},
     "output_type": "execute_result"
    }
   ],
   "source": [
    "[line.lstrip('\\t') for line in message.body.split(\"\\r\\n\") if len(line)>0]"
   ]
  },
  {
   "cell_type": "code",
   "execution_count": 66,
   "metadata": {},
   "outputs": [
    {
     "data": {
      "text/plain": [
       "{'id': '1636a8bb998b1a6e',\n",
       " 'threadId': '1636a8bb998b1a6e',\n",
       " 'labelIds': ['Label_2744073883326323491',\n",
       "  'IMPORTANT',\n",
       "  'CATEGORY_FORUMS',\n",
       "  'INBOX'],\n",
       " 'snippet': 'Send BEstudents mailing list submissions to bestudents@mit.edu To subscribe or unsubscribe via the World Wide Web, visit http://mailman.mit.edu/mailman/listinfo/bestudents or, via email, send a message',\n",
       " 'historyId': '3528156',\n",
       " 'internalDate': '1526500923000',\n",
       " 'payload': {'partId': '',\n",
       "  'mimeType': 'text/plain',\n",
       "  'filename': '',\n",
       "  'headers': [{'name': 'Delivered-To', 'value': 'jonathanli6022@gmail.com'},\n",
       "   {'name': 'Received',\n",
       "    'value': 'by 2002:ac0:a549:0:0:0:0:0 with SMTP id l9-v6csp7465439iml;        Wed, 16 May 2018 13:02:11 -0700 (PDT)'},\n",
       "   {'name': 'X-Google-Smtp-Source',\n",
       "    'value': 'AB8JxZqTsDOzx4jr13IjDXs5J9c0lDyrOwSrAaLDfaFgIPirkFMHxcS5aN9pEKWrJqZ+7myydr+r'},\n",
       "   {'name': 'X-Received',\n",
       "    'value': 'by 2002:ac8:3748:: with SMTP id p8-v6mr2587787qtb.47.1526500931876;        Wed, 16 May 2018 13:02:11 -0700 (PDT)'},\n",
       "   {'name': 'ARC-Seal',\n",
       "    'value': 'i=1; a=rsa-sha256; t=1526500931; cv=none;        d=google.com; s=arc-20160816;        b=Nj1xhyUivig8oIM+bwRBawUJ8HgjwgCJiNlV08wwM6tfHBjp04RRSIj2z51Cwa2Xdn         ci29kl2lCj1/YEWIhdQAq4nwVb3NvL3R/9C+kCYLilbqxdE8GyGH3LcrqNo4B9uTLcuj         bMWsUIB0563qcgsTJAimnKiEedGXhjijIZlV9561HrDMlG8feZuq727hi/UkFwfC+Qe8         5McZhoPY8q6noShAeZv09sXo7fpXMUWNs+G0+LT6ajxhZnQ6lNgqA8KoosWC+xcjO2Kp         LlxLDGQDOwY0O9tGfNl+lklmBOS2ho8fi7YL3GKD++YDzcIZDcx62KOMmwNxPReATbXm         0/xw=='},\n",
       "   {'name': 'ARC-Message-Signature',\n",
       "    'value': 'i=1; a=rsa-sha256; c=relaxed/relaxed; d=google.com; s=arc-20160816;        h=errors-to:sender:list-subscribe:list-help:list-post:list-archive         :list-unsubscribe:list-id:precedence:content-transfer-encoding         :mime-version:message-id:date:reply-to:to:subject:from         :arc-authentication-results;        bh=/ldpbYXnnrdSerZlNFgHsXYywF/vJmNKsj7TxIf8Sn4=;        b=Zrbm6AGgjIoI8/3FhU1br7w6Xg4ZVMGgrOusOa73qyY32M4+NASQ1hUw48UdoSaySg         QRCelqC7aI5rtA53WUfeTcA3YM3E1/Lp7l5oN/F5ZloqBWwlQ1Ga9AnkNkgDX2ujFJu2         XxILKVz1RiKsuON0+DlCJ5GKXn3xwHOBd5Us5zML1nz1R/e1A1acI5hN+/ctD8sX5l2r         TfnVlnL/kGAtd03KgUZRVFcBvqzv45RY1DwbYKseJ1JvgrruW5xZXBecpco8jvNq41pp         Q4SB74ar+LttjPpIQRcnCwCJCTn45wMoC7i6e+Zzp0truKsFc6G13Qe2Agz8oPRCmlX0         nxAw=='},\n",
       "   {'name': 'ARC-Authentication-Results',\n",
       "    'value': 'i=1; mx.google.com;       spf=pass (google.com: domain of bestudents-bounces@mit.edu designates 18.9.25.12 as permitted sender) smtp.mailfrom=bestudents-bounces@mit.edu'},\n",
       "   {'name': 'Return-Path', 'value': '<bestudents-bounces@mit.edu>'},\n",
       "   {'name': 'Received',\n",
       "    'value': 'from dmz-mailsec-scanner-1.mit.edu (dmz-mailsec-scanner-1.mit.edu. [18.9.25.12])        by mx.google.com with ESMTPS id b18-v6si65069qtp.303.2018.05.16.13.02.11        for <jonathanli6022@gmail.com>        (version=TLS1_2 cipher=ECDHE-RSA-AES128-GCM-SHA256 bits=128/128);        Wed, 16 May 2018 13:02:11 -0700 (PDT)'},\n",
       "   {'name': 'Received-SPF',\n",
       "    'value': 'pass (google.com: domain of bestudents-bounces@mit.edu designates 18.9.25.12 as permitted sender) client-ip=18.9.25.12;'},\n",
       "   {'name': 'Authentication-Results',\n",
       "    'value': 'mx.google.com;       spf=pass (google.com: domain of bestudents-bounces@mit.edu designates 18.9.25.12 as permitted sender) smtp.mailfrom=bestudents-bounces@mit.edu'},\n",
       "   {'name': 'X-AuditID', 'value': '1209190c-93dff70000004026-1e-5afc8e422bbb'},\n",
       "   {'name': 'Received',\n",
       "    'value': 'from mailhub-4.mit.edu ( [18.7.62.40]) (using TLS with cipher DHE-RSA-AES256-SHA (256/256 bits)) (Client did not present a certificate) by dmz-mailsec-scanner-1.mit.edu (Symantec Messaging Gateway) with SMTP id B4.D7.16422.34E8CFA5; Wed, 16 May 2018 16:02:11 -0400 (EDT)'},\n",
       "   {'name': 'Received',\n",
       "    'value': 'from PCH.mit.edu (PCH.MIT.EDU [18.7.21.50]) by mailhub-4.mit.edu (8.13.8/8.9.2) with ESMTP id w4GK26Ko020048 for <iamjli@MIT.EDU>; Wed, 16 May 2018 16:02:08 -0400'},\n",
       "   {'name': 'Received',\n",
       "    'value': 'from PCH.MIT.EDU (localhost.localdomain [127.0.0.1]) by PCH.mit.edu (8.13.8/8.12.8) with ESMTP id w4GK266V029798 for <iamjli@mit.edu>; Wed, 16 May 2018 16:02:06 -0400'},\n",
       "   {'name': 'From', 'value': 'bestudents-request@mit.edu'},\n",
       "   {'name': 'Subject', 'value': 'BEstudents Digest, Vol 134, Issue 27'},\n",
       "   {'name': 'To', 'value': 'bestudents@mit.edu'},\n",
       "   {'name': 'Reply-To', 'value': 'bestudents@mit.edu'},\n",
       "   {'name': 'Date', 'value': 'Wed, 16 May 2018 16:02:03 -0400'},\n",
       "   {'name': 'Message-ID',\n",
       "    'value': '<mailman.335.1526500923.28661.bestudents@mit.edu>'},\n",
       "   {'name': 'MIME-Version', 'value': '1.0'},\n",
       "   {'name': 'Content-Type', 'value': 'text/plain; charset=\"us-ascii\"'},\n",
       "   {'name': 'Content-Transfer-Encoding', 'value': '7bit'},\n",
       "   {'name': 'X-BeenThere', 'value': 'bestudents@mit.edu'},\n",
       "   {'name': 'X-Mailman-Version', 'value': '2.1.6'},\n",
       "   {'name': 'Precedence', 'value': 'list'},\n",
       "   {'name': 'List-Id', 'value': 'BE Students <bestudents.mit.edu>'},\n",
       "   {'name': 'List-Unsubscribe',\n",
       "    'value': '<http://mailman.mit.edu/mailman/listinfo/bestudents>, <mailto:bestudents-request@mit.edu?subject=unsubscribe>'},\n",
       "   {'name': 'List-Archive',\n",
       "    'value': '<http://mailman.mit.edu/mailman/private/bestudents>'},\n",
       "   {'name': 'List-Post', 'value': '<mailto:bestudents@mit.edu>'},\n",
       "   {'name': 'List-Help',\n",
       "    'value': '<mailto:bestudents-request@mit.edu?subject=help>'},\n",
       "   {'name': 'List-Subscribe',\n",
       "    'value': '<http://mailman.mit.edu/mailman/listinfo/bestudents>, <mailto:bestudents-request@mit.edu?subject=subscribe>'},\n",
       "   {'name': 'Sender', 'value': 'bestudents-bounces@mit.edu'},\n",
       "   {'name': 'Errors-To', 'value': 'bestudents-bounces@mit.edu'},\n",
       "   {'name': 'X-Brightmail-Tracker',\n",
       "    'value': 'H4sIAAAAAAAAA02Se0hTURzHPbubu1u7dbxaO5pRXCnyMUsSeliiRVBRUQT+Mf+omzu54R5y 7yZOyDR6oSmJRbXChDIsqHxlroWrFfnqYVHTEKHsQS6lIUb4pHu9+fjvc8/3+/v+vodzSYLu UkSRJqsdc1bWzISq5bQyda1uR/mkfv3wd2ZTZd1ZWRrY5Xb1Kw8AvXqrAZtNeZhbl3pEbfzS 16rIfUzn144OKYvAwJISoCIRTEauyjGZyDSskqEXPrIEqAWuA6jNO0pIH00ATb17PeMKhatQ Z/AyEDkc6tDb/g6lyBFwGSr2twseUhiIRoEyi3gsh6vR4JS0gILbUPMVt1LiMNRx9ZtcZAIm oGrPSKjEK9Gj4euEGIMEvnHPLvVEaPzz6Rk7hBBV3XLPRGpgLGqs/yUXa2pgMUB3vGMKSUhH v0e6gcRrUMWDHqXEKaipvuL/+XEUrAmESldhUK3/zMysQuh86kcbcQEg14KqrgVVXQuqVgPi LlhhsBToLKzJzOMsHZ/FWq2Y0yUlWkz2RGxwNADxpVSRmhbwamiPD0ASMBqqJWVSTyvYPN5p 8YFIUsYspcqnJ/T04qM2g9PI8sbDnMOMeR9AJMFEUHSpYKcMrLMAc7ZZaTkpZ7QUbAzqaZjN 2nEOxrmYm1WjSZJB1MMyYTCMw9k4/5jJbJ+XZaRKDNcI4VWih+JzWQtvypb0ThBP/gxePE+Q 05+8ZQQtt9qsOEpLaUUrFK1Gh3UuLQC0wqXCqVJR1Qh/6FxOQFghE1aApxPiCjs7L0UVAQ/z UesfONSUo631b2jzbPElY86ONi/qZWsqep+nZypOZKadbPWX3vd6Ev5qie6X9HhDYkGPR5bq PTikuuSe2K+OW9zwwbn7SXZG783Yvpg3jq8d26eBPn/fzkFVSMyfwrrbqRmdvqqugfhC+TNN b4jd1rLxWvu5rvdOYzPay8h5I5sUR3A8+w9GrrzQXgMAAA=='}],\n",
       "  'body': {'size': 2362,\n",
       "   'data': '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'}},\n",
       " 'sizeEstimate': 7677}"
      ]
     },
     "execution_count": 66,
     "metadata": {},
     "output_type": "execute_result"
    }
   ],
   "source": [
    "message"
   ]
  },
  {
   "cell_type": "code",
   "execution_count": null,
   "metadata": {},
   "outputs": [],
   "source": []
  },
  {
   "cell_type": "code",
   "execution_count": 68,
   "metadata": {},
   "outputs": [
    {
     "data": {
      "text/plain": [
       "dict_keys(['id', 'threadId', 'labelIds', 'snippet', 'historyId', 'internalDate', 'payload', 'sizeEstimate'])"
      ]
     },
     "execution_count": 68,
     "metadata": {},
     "output_type": "execute_result"
    }
   ],
   "source": [
    "message.keys()"
   ]
  },
  {
   "cell_type": "code",
   "execution_count": 70,
   "metadata": {},
   "outputs": [
    {
     "data": {
      "text/plain": [
       "dict_keys(['partId', 'mimeType', 'filename', 'headers', 'body'])"
      ]
     },
     "execution_count": 70,
     "metadata": {},
     "output_type": "execute_result"
    }
   ],
   "source": [
    "message['payload'].keys()"
   ]
  },
  {
   "cell_type": "code",
   "execution_count": 93,
   "metadata": {},
   "outputs": [],
   "source": [
    "message = service.users().messages().get(userId=\"me\", id=\"1636a8bb998b1a6e\", format='full').execute()"
   ]
  },
  {
   "cell_type": "code",
   "execution_count": 94,
   "metadata": {},
   "outputs": [
    {
     "data": {
      "text/plain": [
       "{'id': '1636a8bb998b1a6e',\n",
       " 'threadId': '1636a8bb998b1a6e',\n",
       " 'labelIds': ['Label_2744073883326323491',\n",
       "  'IMPORTANT',\n",
       "  'CATEGORY_FORUMS',\n",
       "  'INBOX'],\n",
       " 'snippet': 'Send BEstudents mailing list submissions to bestudents@mit.edu To subscribe or unsubscribe via the World Wide Web, visit http://mailman.mit.edu/mailman/listinfo/bestudents or, via email, send a message',\n",
       " 'historyId': '3528156',\n",
       " 'internalDate': '1526500923000',\n",
       " 'payload': {'partId': '',\n",
       "  'mimeType': 'text/plain',\n",
       "  'filename': '',\n",
       "  'headers': [{'name': 'Delivered-To', 'value': 'jonathanli6022@gmail.com'},\n",
       "   {'name': 'Received',\n",
       "    'value': 'by 2002:ac0:a549:0:0:0:0:0 with SMTP id l9-v6csp7465439iml;        Wed, 16 May 2018 13:02:11 -0700 (PDT)'},\n",
       "   {'name': 'X-Google-Smtp-Source',\n",
       "    'value': 'AB8JxZqTsDOzx4jr13IjDXs5J9c0lDyrOwSrAaLDfaFgIPirkFMHxcS5aN9pEKWrJqZ+7myydr+r'},\n",
       "   {'name': 'X-Received',\n",
       "    'value': 'by 2002:ac8:3748:: with SMTP id p8-v6mr2587787qtb.47.1526500931876;        Wed, 16 May 2018 13:02:11 -0700 (PDT)'},\n",
       "   {'name': 'ARC-Seal',\n",
       "    'value': 'i=1; a=rsa-sha256; t=1526500931; cv=none;        d=google.com; s=arc-20160816;        b=Nj1xhyUivig8oIM+bwRBawUJ8HgjwgCJiNlV08wwM6tfHBjp04RRSIj2z51Cwa2Xdn         ci29kl2lCj1/YEWIhdQAq4nwVb3NvL3R/9C+kCYLilbqxdE8GyGH3LcrqNo4B9uTLcuj         bMWsUIB0563qcgsTJAimnKiEedGXhjijIZlV9561HrDMlG8feZuq727hi/UkFwfC+Qe8         5McZhoPY8q6noShAeZv09sXo7fpXMUWNs+G0+LT6ajxhZnQ6lNgqA8KoosWC+xcjO2Kp         LlxLDGQDOwY0O9tGfNl+lklmBOS2ho8fi7YL3GKD++YDzcIZDcx62KOMmwNxPReATbXm         0/xw=='},\n",
       "   {'name': 'ARC-Message-Signature',\n",
       "    'value': 'i=1; a=rsa-sha256; c=relaxed/relaxed; d=google.com; s=arc-20160816;        h=errors-to:sender:list-subscribe:list-help:list-post:list-archive         :list-unsubscribe:list-id:precedence:content-transfer-encoding         :mime-version:message-id:date:reply-to:to:subject:from         :arc-authentication-results;        bh=/ldpbYXnnrdSerZlNFgHsXYywF/vJmNKsj7TxIf8Sn4=;        b=Zrbm6AGgjIoI8/3FhU1br7w6Xg4ZVMGgrOusOa73qyY32M4+NASQ1hUw48UdoSaySg         QRCelqC7aI5rtA53WUfeTcA3YM3E1/Lp7l5oN/F5ZloqBWwlQ1Ga9AnkNkgDX2ujFJu2         XxILKVz1RiKsuON0+DlCJ5GKXn3xwHOBd5Us5zML1nz1R/e1A1acI5hN+/ctD8sX5l2r         TfnVlnL/kGAtd03KgUZRVFcBvqzv45RY1DwbYKseJ1JvgrruW5xZXBecpco8jvNq41pp         Q4SB74ar+LttjPpIQRcnCwCJCTn45wMoC7i6e+Zzp0truKsFc6G13Qe2Agz8oPRCmlX0         nxAw=='},\n",
       "   {'name': 'ARC-Authentication-Results',\n",
       "    'value': 'i=1; mx.google.com;       spf=pass (google.com: domain of bestudents-bounces@mit.edu designates 18.9.25.12 as permitted sender) smtp.mailfrom=bestudents-bounces@mit.edu'},\n",
       "   {'name': 'Return-Path', 'value': '<bestudents-bounces@mit.edu>'},\n",
       "   {'name': 'Received',\n",
       "    'value': 'from dmz-mailsec-scanner-1.mit.edu (dmz-mailsec-scanner-1.mit.edu. [18.9.25.12])        by mx.google.com with ESMTPS id b18-v6si65069qtp.303.2018.05.16.13.02.11        for <jonathanli6022@gmail.com>        (version=TLS1_2 cipher=ECDHE-RSA-AES128-GCM-SHA256 bits=128/128);        Wed, 16 May 2018 13:02:11 -0700 (PDT)'},\n",
       "   {'name': 'Received-SPF',\n",
       "    'value': 'pass (google.com: domain of bestudents-bounces@mit.edu designates 18.9.25.12 as permitted sender) client-ip=18.9.25.12;'},\n",
       "   {'name': 'Authentication-Results',\n",
       "    'value': 'mx.google.com;       spf=pass (google.com: domain of bestudents-bounces@mit.edu designates 18.9.25.12 as permitted sender) smtp.mailfrom=bestudents-bounces@mit.edu'},\n",
       "   {'name': 'X-AuditID', 'value': '1209190c-93dff70000004026-1e-5afc8e422bbb'},\n",
       "   {'name': 'Received',\n",
       "    'value': 'from mailhub-4.mit.edu ( [18.7.62.40]) (using TLS with cipher DHE-RSA-AES256-SHA (256/256 bits)) (Client did not present a certificate) by dmz-mailsec-scanner-1.mit.edu (Symantec Messaging Gateway) with SMTP id B4.D7.16422.34E8CFA5; Wed, 16 May 2018 16:02:11 -0400 (EDT)'},\n",
       "   {'name': 'Received',\n",
       "    'value': 'from PCH.mit.edu (PCH.MIT.EDU [18.7.21.50]) by mailhub-4.mit.edu (8.13.8/8.9.2) with ESMTP id w4GK26Ko020048 for <iamjli@MIT.EDU>; Wed, 16 May 2018 16:02:08 -0400'},\n",
       "   {'name': 'Received',\n",
       "    'value': 'from PCH.MIT.EDU (localhost.localdomain [127.0.0.1]) by PCH.mit.edu (8.13.8/8.12.8) with ESMTP id w4GK266V029798 for <iamjli@mit.edu>; Wed, 16 May 2018 16:02:06 -0400'},\n",
       "   {'name': 'From', 'value': 'bestudents-request@mit.edu'},\n",
       "   {'name': 'Subject', 'value': 'BEstudents Digest, Vol 134, Issue 27'},\n",
       "   {'name': 'To', 'value': 'bestudents@mit.edu'},\n",
       "   {'name': 'Reply-To', 'value': 'bestudents@mit.edu'},\n",
       "   {'name': 'Date', 'value': 'Wed, 16 May 2018 16:02:03 -0400'},\n",
       "   {'name': 'Message-ID',\n",
       "    'value': '<mailman.335.1526500923.28661.bestudents@mit.edu>'},\n",
       "   {'name': 'MIME-Version', 'value': '1.0'},\n",
       "   {'name': 'Content-Type', 'value': 'text/plain; charset=\"us-ascii\"'},\n",
       "   {'name': 'Content-Transfer-Encoding', 'value': '7bit'},\n",
       "   {'name': 'X-BeenThere', 'value': 'bestudents@mit.edu'},\n",
       "   {'name': 'X-Mailman-Version', 'value': '2.1.6'},\n",
       "   {'name': 'Precedence', 'value': 'list'},\n",
       "   {'name': 'List-Id', 'value': 'BE Students <bestudents.mit.edu>'},\n",
       "   {'name': 'List-Unsubscribe',\n",
       "    'value': '<http://mailman.mit.edu/mailman/listinfo/bestudents>, <mailto:bestudents-request@mit.edu?subject=unsubscribe>'},\n",
       "   {'name': 'List-Archive',\n",
       "    'value': '<http://mailman.mit.edu/mailman/private/bestudents>'},\n",
       "   {'name': 'List-Post', 'value': '<mailto:bestudents@mit.edu>'},\n",
       "   {'name': 'List-Help',\n",
       "    'value': '<mailto:bestudents-request@mit.edu?subject=help>'},\n",
       "   {'name': 'List-Subscribe',\n",
       "    'value': '<http://mailman.mit.edu/mailman/listinfo/bestudents>, <mailto:bestudents-request@mit.edu?subject=subscribe>'},\n",
       "   {'name': 'Sender', 'value': 'bestudents-bounces@mit.edu'},\n",
       "   {'name': 'Errors-To', 'value': 'bestudents-bounces@mit.edu'},\n",
       "   {'name': 'X-Brightmail-Tracker',\n",
       "    'value': 'H4sIAAAAAAAAA02Se0hTURzHPbubu1u7dbxaO5pRXCnyMUsSeliiRVBRUQT+Mf+omzu54R5y 7yZOyDR6oSmJRbXChDIsqHxlroWrFfnqYVHTEKHsQS6lIUb4pHu9+fjvc8/3+/v+vodzSYLu UkSRJqsdc1bWzISq5bQyda1uR/mkfv3wd2ZTZd1ZWRrY5Xb1Kw8AvXqrAZtNeZhbl3pEbfzS 16rIfUzn144OKYvAwJISoCIRTEauyjGZyDSskqEXPrIEqAWuA6jNO0pIH00ATb17PeMKhatQ Z/AyEDkc6tDb/g6lyBFwGSr2twseUhiIRoEyi3gsh6vR4JS0gILbUPMVt1LiMNRx9ZtcZAIm oGrPSKjEK9Gj4euEGIMEvnHPLvVEaPzz6Rk7hBBV3XLPRGpgLGqs/yUXa2pgMUB3vGMKSUhH v0e6gcRrUMWDHqXEKaipvuL/+XEUrAmESldhUK3/zMysQuh86kcbcQEg14KqrgVVXQuqVgPi LlhhsBToLKzJzOMsHZ/FWq2Y0yUlWkz2RGxwNADxpVSRmhbwamiPD0ASMBqqJWVSTyvYPN5p 8YFIUsYspcqnJ/T04qM2g9PI8sbDnMOMeR9AJMFEUHSpYKcMrLMAc7ZZaTkpZ7QUbAzqaZjN 2nEOxrmYm1WjSZJB1MMyYTCMw9k4/5jJbJ+XZaRKDNcI4VWih+JzWQtvypb0ThBP/gxePE+Q 05+8ZQQtt9qsOEpLaUUrFK1Gh3UuLQC0wqXCqVJR1Qh/6FxOQFghE1aApxPiCjs7L0UVAQ/z UesfONSUo631b2jzbPElY86ONi/qZWsqep+nZypOZKadbPWX3vd6Ev5qie6X9HhDYkGPR5bq PTikuuSe2K+OW9zwwbn7SXZG783Yvpg3jq8d26eBPn/fzkFVSMyfwrrbqRmdvqqugfhC+TNN b4jd1rLxWvu5rvdOYzPay8h5I5sUR3A8+w9GrrzQXgMAAA=='}],\n",
       "  'body': {'size': 2362,\n",
       "   'data': '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'}},\n",
       " 'sizeEstimate': 7677}"
      ]
     },
     "execution_count": 94,
     "metadata": {},
     "output_type": "execute_result"
    }
   ],
   "source": [
    "message"
   ]
  },
  {
   "cell_type": "code",
   "execution_count": 99,
   "metadata": {
    "scrolled": true
   },
   "outputs": [
    {
     "data": {
      "text/plain": [
       "[{'name': 'Delivered-To', 'value': 'jonathanli6022@gmail.com'},\n",
       " {'name': 'Received',\n",
       "  'value': 'by 2002:ac0:a549:0:0:0:0:0 with SMTP id l9-v6csp7465439iml;        Wed, 16 May 2018 13:02:11 -0700 (PDT)'},\n",
       " {'name': 'X-Google-Smtp-Source',\n",
       "  'value': 'AB8JxZqTsDOzx4jr13IjDXs5J9c0lDyrOwSrAaLDfaFgIPirkFMHxcS5aN9pEKWrJqZ+7myydr+r'},\n",
       " {'name': 'X-Received',\n",
       "  'value': 'by 2002:ac8:3748:: with SMTP id p8-v6mr2587787qtb.47.1526500931876;        Wed, 16 May 2018 13:02:11 -0700 (PDT)'},\n",
       " {'name': 'ARC-Seal',\n",
       "  'value': 'i=1; a=rsa-sha256; t=1526500931; cv=none;        d=google.com; s=arc-20160816;        b=Nj1xhyUivig8oIM+bwRBawUJ8HgjwgCJiNlV08wwM6tfHBjp04RRSIj2z51Cwa2Xdn         ci29kl2lCj1/YEWIhdQAq4nwVb3NvL3R/9C+kCYLilbqxdE8GyGH3LcrqNo4B9uTLcuj         bMWsUIB0563qcgsTJAimnKiEedGXhjijIZlV9561HrDMlG8feZuq727hi/UkFwfC+Qe8         5McZhoPY8q6noShAeZv09sXo7fpXMUWNs+G0+LT6ajxhZnQ6lNgqA8KoosWC+xcjO2Kp         LlxLDGQDOwY0O9tGfNl+lklmBOS2ho8fi7YL3GKD++YDzcIZDcx62KOMmwNxPReATbXm         0/xw=='},\n",
       " {'name': 'ARC-Message-Signature',\n",
       "  'value': 'i=1; a=rsa-sha256; c=relaxed/relaxed; d=google.com; s=arc-20160816;        h=errors-to:sender:list-subscribe:list-help:list-post:list-archive         :list-unsubscribe:list-id:precedence:content-transfer-encoding         :mime-version:message-id:date:reply-to:to:subject:from         :arc-authentication-results;        bh=/ldpbYXnnrdSerZlNFgHsXYywF/vJmNKsj7TxIf8Sn4=;        b=Zrbm6AGgjIoI8/3FhU1br7w6Xg4ZVMGgrOusOa73qyY32M4+NASQ1hUw48UdoSaySg         QRCelqC7aI5rtA53WUfeTcA3YM3E1/Lp7l5oN/F5ZloqBWwlQ1Ga9AnkNkgDX2ujFJu2         XxILKVz1RiKsuON0+DlCJ5GKXn3xwHOBd5Us5zML1nz1R/e1A1acI5hN+/ctD8sX5l2r         TfnVlnL/kGAtd03KgUZRVFcBvqzv45RY1DwbYKseJ1JvgrruW5xZXBecpco8jvNq41pp         Q4SB74ar+LttjPpIQRcnCwCJCTn45wMoC7i6e+Zzp0truKsFc6G13Qe2Agz8oPRCmlX0         nxAw=='},\n",
       " {'name': 'ARC-Authentication-Results',\n",
       "  'value': 'i=1; mx.google.com;       spf=pass (google.com: domain of bestudents-bounces@mit.edu designates 18.9.25.12 as permitted sender) smtp.mailfrom=bestudents-bounces@mit.edu'},\n",
       " {'name': 'Return-Path', 'value': '<bestudents-bounces@mit.edu>'},\n",
       " {'name': 'Received',\n",
       "  'value': 'from dmz-mailsec-scanner-1.mit.edu (dmz-mailsec-scanner-1.mit.edu. [18.9.25.12])        by mx.google.com with ESMTPS id b18-v6si65069qtp.303.2018.05.16.13.02.11        for <jonathanli6022@gmail.com>        (version=TLS1_2 cipher=ECDHE-RSA-AES128-GCM-SHA256 bits=128/128);        Wed, 16 May 2018 13:02:11 -0700 (PDT)'},\n",
       " {'name': 'Received-SPF',\n",
       "  'value': 'pass (google.com: domain of bestudents-bounces@mit.edu designates 18.9.25.12 as permitted sender) client-ip=18.9.25.12;'},\n",
       " {'name': 'Authentication-Results',\n",
       "  'value': 'mx.google.com;       spf=pass (google.com: domain of bestudents-bounces@mit.edu designates 18.9.25.12 as permitted sender) smtp.mailfrom=bestudents-bounces@mit.edu'},\n",
       " {'name': 'X-AuditID', 'value': '1209190c-93dff70000004026-1e-5afc8e422bbb'},\n",
       " {'name': 'Received',\n",
       "  'value': 'from mailhub-4.mit.edu ( [18.7.62.40]) (using TLS with cipher DHE-RSA-AES256-SHA (256/256 bits)) (Client did not present a certificate) by dmz-mailsec-scanner-1.mit.edu (Symantec Messaging Gateway) with SMTP id B4.D7.16422.34E8CFA5; Wed, 16 May 2018 16:02:11 -0400 (EDT)'},\n",
       " {'name': 'Received',\n",
       "  'value': 'from PCH.mit.edu (PCH.MIT.EDU [18.7.21.50]) by mailhub-4.mit.edu (8.13.8/8.9.2) with ESMTP id w4GK26Ko020048 for <iamjli@MIT.EDU>; Wed, 16 May 2018 16:02:08 -0400'},\n",
       " {'name': 'Received',\n",
       "  'value': 'from PCH.MIT.EDU (localhost.localdomain [127.0.0.1]) by PCH.mit.edu (8.13.8/8.12.8) with ESMTP id w4GK266V029798 for <iamjli@mit.edu>; Wed, 16 May 2018 16:02:06 -0400'},\n",
       " {'name': 'From', 'value': 'bestudents-request@mit.edu'},\n",
       " {'name': 'Subject', 'value': 'BEstudents Digest, Vol 134, Issue 27'},\n",
       " {'name': 'To', 'value': 'bestudents@mit.edu'},\n",
       " {'name': 'Reply-To', 'value': 'bestudents@mit.edu'},\n",
       " {'name': 'Date', 'value': 'Wed, 16 May 2018 16:02:03 -0400'},\n",
       " {'name': 'Message-ID',\n",
       "  'value': '<mailman.335.1526500923.28661.bestudents@mit.edu>'},\n",
       " {'name': 'MIME-Version', 'value': '1.0'},\n",
       " {'name': 'Content-Type', 'value': 'text/plain; charset=\"us-ascii\"'},\n",
       " {'name': 'Content-Transfer-Encoding', 'value': '7bit'},\n",
       " {'name': 'X-BeenThere', 'value': 'bestudents@mit.edu'},\n",
       " {'name': 'X-Mailman-Version', 'value': '2.1.6'},\n",
       " {'name': 'Precedence', 'value': 'list'},\n",
       " {'name': 'List-Id', 'value': 'BE Students <bestudents.mit.edu>'},\n",
       " {'name': 'List-Unsubscribe',\n",
       "  'value': '<http://mailman.mit.edu/mailman/listinfo/bestudents>, <mailto:bestudents-request@mit.edu?subject=unsubscribe>'},\n",
       " {'name': 'List-Archive',\n",
       "  'value': '<http://mailman.mit.edu/mailman/private/bestudents>'},\n",
       " {'name': 'List-Post', 'value': '<mailto:bestudents@mit.edu>'},\n",
       " {'name': 'List-Help',\n",
       "  'value': '<mailto:bestudents-request@mit.edu?subject=help>'},\n",
       " {'name': 'List-Subscribe',\n",
       "  'value': '<http://mailman.mit.edu/mailman/listinfo/bestudents>, <mailto:bestudents-request@mit.edu?subject=subscribe>'},\n",
       " {'name': 'Sender', 'value': 'bestudents-bounces@mit.edu'},\n",
       " {'name': 'Errors-To', 'value': 'bestudents-bounces@mit.edu'},\n",
       " {'name': 'X-Brightmail-Tracker',\n",
       "  'value': 'H4sIAAAAAAAAA02Se0hTURzHPbubu1u7dbxaO5pRXCnyMUsSeliiRVBRUQT+Mf+omzu54R5y 7yZOyDR6oSmJRbXChDIsqHxlroWrFfnqYVHTEKHsQS6lIUb4pHu9+fjvc8/3+/v+vodzSYLu UkSRJqsdc1bWzISq5bQyda1uR/mkfv3wd2ZTZd1ZWRrY5Xb1Kw8AvXqrAZtNeZhbl3pEbfzS 16rIfUzn144OKYvAwJISoCIRTEauyjGZyDSskqEXPrIEqAWuA6jNO0pIH00ATb17PeMKhatQ Z/AyEDkc6tDb/g6lyBFwGSr2twseUhiIRoEyi3gsh6vR4JS0gILbUPMVt1LiMNRx9ZtcZAIm oGrPSKjEK9Gj4euEGIMEvnHPLvVEaPzz6Rk7hBBV3XLPRGpgLGqs/yUXa2pgMUB3vGMKSUhH v0e6gcRrUMWDHqXEKaipvuL/+XEUrAmESldhUK3/zMysQuh86kcbcQEg14KqrgVVXQuqVgPi LlhhsBToLKzJzOMsHZ/FWq2Y0yUlWkz2RGxwNADxpVSRmhbwamiPD0ASMBqqJWVSTyvYPN5p 8YFIUsYspcqnJ/T04qM2g9PI8sbDnMOMeR9AJMFEUHSpYKcMrLMAc7ZZaTkpZ7QUbAzqaZjN 2nEOxrmYm1WjSZJB1MMyYTCMw9k4/5jJbJ+XZaRKDNcI4VWih+JzWQtvypb0ThBP/gxePE+Q 05+8ZQQtt9qsOEpLaUUrFK1Gh3UuLQC0wqXCqVJR1Qh/6FxOQFghE1aApxPiCjs7L0UVAQ/z UesfONSUo631b2jzbPElY86ONi/qZWsqep+nZypOZKadbPWX3vd6Ev5qie6X9HhDYkGPR5bq PTikuuSe2K+OW9zwwbn7SXZG783Yvpg3jq8d26eBPn/fzkFVSMyfwrrbqRmdvqqugfhC+TNN b4jd1rLxWvu5rvdOYzPay8h5I5sUR3A8+w9GrrzQXgMAAA=='}]"
      ]
     },
     "execution_count": 99,
     "metadata": {},
     "output_type": "execute_result"
    }
   ],
   "source": [
    "message[\"payload\"][\"headers\"]"
   ]
  },
  {
   "cell_type": "code",
   "execution_count": 101,
   "metadata": {},
   "outputs": [
    {
     "data": {
      "text/plain": [
       "'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'"
      ]
     },
     "execution_count": 101,
     "metadata": {},
     "output_type": "execute_result"
    }
   ],
   "source": [
    "message[\"payload\"][\"body\"][\"data\"]"
   ]
  },
  {
   "cell_type": "code",
   "execution_count": 96,
   "metadata": {},
   "outputs": [
    {
     "ename": "AttributeError",
     "evalue": "'dict' object has no attribute 'get_payload'",
     "output_type": "error",
     "traceback": [
      "\u001b[0;31m---------------------------------------------------------------------------\u001b[0m",
      "\u001b[0;31mAttributeError\u001b[0m                            Traceback (most recent call last)",
      "\u001b[0;32m<ipython-input-96-6c208a30bfa3>\u001b[0m in \u001b[0;36m<module>\u001b[0;34m()\u001b[0m\n\u001b[0;32m----> 1\u001b[0;31m \u001b[0mtmp\u001b[0m \u001b[0;34m=\u001b[0m \u001b[0memail\u001b[0m\u001b[0;34m.\u001b[0m\u001b[0mmessage_from_string\u001b[0m\u001b[0;34m(\u001b[0m\u001b[0mmessage\u001b[0m\u001b[0;34m.\u001b[0m\u001b[0mget_payload\u001b[0m\u001b[0;34m(\u001b[0m\u001b[0;34m)\u001b[0m\u001b[0;34m)\u001b[0m\u001b[0;34m\u001b[0m\u001b[0m\n\u001b[0m",
      "\u001b[0;31mAttributeError\u001b[0m: 'dict' object has no attribute 'get_payload'"
     ]
    }
   ],
   "source": [
    "tmp = email.message_from_string(message.get_payload())\n"
   ]
  },
  {
   "cell_type": "code",
   "execution_count": null,
   "metadata": {},
   "outputs": [],
   "source": []
  },
  {
   "cell_type": "code",
   "execution_count": 85,
   "metadata": {},
   "outputs": [
    {
     "name": "stdout",
     "output_type": "stream",
     "text": [
      "None\n"
     ]
    }
   ],
   "source": [
    "print(tmp.get(\"From\"))"
   ]
  },
  {
   "cell_type": "code",
   "execution_count": 49,
   "metadata": {},
   "outputs": [],
   "source": [
    "from email.parser import Parser\n",
    "msg = Parser().parsestr(tmp.as_string())"
   ]
  },
  {
   "cell_type": "code",
   "execution_count": null,
   "metadata": {},
   "outputs": [],
   "source": []
  }
 ],
 "metadata": {
  "kernelspec": {
   "display_name": "Python 3",
   "language": "python",
   "name": "python3"
  },
  "language_info": {
   "codemirror_mode": {
    "name": "ipython",
    "version": 3
   },
   "file_extension": ".py",
   "mimetype": "text/x-python",
   "name": "python",
   "nbconvert_exporter": "python",
   "pygments_lexer": "ipython3",
   "version": "3.6.5"
  }
 },
 "nbformat": 4,
 "nbformat_minor": 2
}
